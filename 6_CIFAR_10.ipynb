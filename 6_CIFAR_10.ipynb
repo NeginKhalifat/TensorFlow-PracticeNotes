{
  "nbformat": 4,
  "nbformat_minor": 0,
  "metadata": {
    "colab": {
      "name": "6_CIFAR_10.ipynb",
      "provenance": [],
      "authorship_tag": "ABX9TyNIKi61eiN4DhqtFtxdQyE5",
      "include_colab_link": true
    },
    "kernelspec": {
      "display_name": "Python 3",
      "name": "python3"
    },
    "accelerator": "GPU"
  },
  "cells": [
    {
      "cell_type": "markdown",
      "metadata": {
        "id": "view-in-github",
        "colab_type": "text"
      },
      "source": [
        "<a href=\"https://colab.research.google.com/github/NeginKhalifat/TensorFlow_PracticeNotes/blob/main/6_CIFAR_10.ipynb\" target=\"_parent\"><img src=\"https://colab.research.google.com/assets/colab-badge.svg\" alt=\"Open In Colab\"/></a>"
      ]
    },
    {
      "cell_type": "code",
      "metadata": {
        "id": "r7Klt_FFZ3Zx"
      },
      "source": [
        "import pandas as pd\r\n",
        "import numpy as np\r\n",
        "import tensorflow\r\n",
        "from tensorflow.keras.layers import Dense, Conv2D, GlobalMaxPool2D,Dropout, Flatten,Input,BatchNormalization, MaxPool2D,MaxPooling2D\r\n",
        "from tensorflow.keras.models import Model"
      ],
      "execution_count": 1,
      "outputs": []
    },
    {
      "cell_type": "code",
      "metadata": {
        "id": "o0yWYu2VuheM",
        "colab": {
          "base_uri": "https://localhost:8080/"
        },
        "outputId": "373cb4c3-fae0-423c-e7ec-d43ca49437e9"
      },
      "source": [
        "cifar = tensorflow.keras.datasets.cifar10\r\n",
        "(X_train, y_train),(X_test,y_test) = cifar.load_data()"
      ],
      "execution_count": 2,
      "outputs": [
        {
          "output_type": "stream",
          "text": [
            "Downloading data from https://www.cs.toronto.edu/~kriz/cifar-10-python.tar.gz\n",
            "170500096/170498071 [==============================] - 6s 0us/step\n"
          ],
          "name": "stdout"
        }
      ]
    },
    {
      "cell_type": "code",
      "metadata": {
        "colab": {
          "base_uri": "https://localhost:8080/"
        },
        "id": "iapjhxAau-Bf",
        "outputId": "3b29fa50-ee18-429a-fcb9-f572e74c796b"
      },
      "source": [
        "X_train = X_train/255.0\r\n",
        "X_test = X_test/255.0\r\n",
        "y_train\r\n",
        "# y must be a vector not 2D array"
      ],
      "execution_count": 3,
      "outputs": [
        {
          "output_type": "execute_result",
          "data": {
            "text/plain": [
              "array([[6],\n",
              "       [9],\n",
              "       [9],\n",
              "       ...,\n",
              "       [9],\n",
              "       [1],\n",
              "       [1]], dtype=uint8)"
            ]
          },
          "metadata": {
            "tags": []
          },
          "execution_count": 3
        }
      ]
    },
    {
      "cell_type": "code",
      "metadata": {
        "colab": {
          "base_uri": "https://localhost:8080/"
        },
        "id": "TIz9IhEcvTXx",
        "outputId": "8bd889dc-db26-4ebf-d98a-eedc1bbef354"
      },
      "source": [
        "y_train = y_train.flatten()\r\n",
        "y_test = y_test.flatten()\r\n",
        "X_train.shape"
      ],
      "execution_count": 4,
      "outputs": [
        {
          "output_type": "execute_result",
          "data": {
            "text/plain": [
              "(50000, 32, 32, 3)"
            ]
          },
          "metadata": {
            "tags": []
          },
          "execution_count": 4
        }
      ]
    },
    {
      "cell_type": "code",
      "metadata": {
        "id": "XrHoeGeNvpgU"
      },
      "source": [
        "k = len(set(y_train))"
      ],
      "execution_count": 5,
      "outputs": []
    },
    {
      "cell_type": "markdown",
      "metadata": {
        "id": "3B4Atg0C1ZHh"
      },
      "source": [
        "val accuracy is low\r\n",
        "after each conv2d add bachnormalization"
      ]
    },
    {
      "cell_type": "code",
      "metadata": {
        "id": "owXf2wAZ1baj"
      },
      "source": [
        "i = Input(shape=X_train[0].shape)\r\n",
        "x = Conv2D(32,(3,3),activation='relu',padding='same')(i)\r\n",
        "x = BatchNormalization()(x)\r\n",
        "x = Conv2D(32,(3,3),activation='relu',padding='same')(x)\r\n",
        "x = BatchNormalization()(x)\r\n",
        "x = MaxPooling2D((2,2))(x)\r\n",
        "\r\n",
        "x = Conv2D(64,(3,3),activation='relu',padding='same')(x)\r\n",
        "x = BatchNormalization()(x)\r\n",
        "x = Conv2D(64,(3,3),activation='relu',padding='same')(x)\r\n",
        "x = BatchNormalization()(x)\r\n",
        "x = MaxPooling2D((2,2))(x)\r\n",
        "\r\n",
        "\r\n",
        "x = Conv2D(128,(3,3),activation='relu',padding='same')(x)\r\n",
        "x = BatchNormalization()(x)\r\n",
        "x = Conv2D(128,(3,3),activation='relu',padding='same')(x)\r\n",
        "x = BatchNormalization()(x)\r\n",
        "x = MaxPooling2D((2,2))(x)\r\n",
        "\r\n",
        "x = Flatten()(x)\r\n",
        "x = Dropout(.2)(x)\r\n",
        "x = Dense(1024,activation='relu')(x)\r\n",
        "x = Dropout(.2)(x)\r\n",
        "x =Dense(k,activation='softmax')(x)\r\n",
        "model = Model(i,x)"
      ],
      "execution_count": 6,
      "outputs": []
    },
    {
      "cell_type": "code",
      "metadata": {
        "colab": {
          "base_uri": "https://localhost:8080/"
        },
        "id": "knPYivaB7SQr",
        "outputId": "a3296c55-36d9-4b49-d360-b7d6476fb0aa"
      },
      "source": [
        "model.compile(optimizer='adam',loss='sparse_categorical_crossentropy',metrics=['accuracy'])\r\n",
        "model.fit(X_train,y_train,validation_data=(X_test,y_test),epochs=15)\r\n"
      ],
      "execution_count": 7,
      "outputs": [
        {
          "output_type": "stream",
          "text": [
            "Epoch 1/15\n",
            "1563/1563 [==============================] - 17s 6ms/step - loss: 1.7369 - accuracy: 0.4449 - val_loss: 0.9775 - val_accuracy: 0.6583\n",
            "Epoch 2/15\n",
            "1563/1563 [==============================] - 9s 6ms/step - loss: 0.8854 - accuracy: 0.6922 - val_loss: 0.8547 - val_accuracy: 0.7003\n",
            "Epoch 3/15\n",
            "1563/1563 [==============================] - 9s 6ms/step - loss: 0.7141 - accuracy: 0.7502 - val_loss: 0.9408 - val_accuracy: 0.6842\n",
            "Epoch 4/15\n",
            "1563/1563 [==============================] - 9s 6ms/step - loss: 0.5875 - accuracy: 0.7996 - val_loss: 0.6658 - val_accuracy: 0.7787\n",
            "Epoch 5/15\n",
            "1563/1563 [==============================] - 9s 6ms/step - loss: 0.4905 - accuracy: 0.8317 - val_loss: 0.6110 - val_accuracy: 0.7979\n",
            "Epoch 6/15\n",
            "1563/1563 [==============================] - 9s 6ms/step - loss: 0.4068 - accuracy: 0.8589 - val_loss: 0.7441 - val_accuracy: 0.7649\n",
            "Epoch 7/15\n",
            "1563/1563 [==============================] - 9s 6ms/step - loss: 0.3487 - accuracy: 0.8791 - val_loss: 0.5959 - val_accuracy: 0.8115\n",
            "Epoch 8/15\n",
            "1563/1563 [==============================] - 9s 6ms/step - loss: 0.2875 - accuracy: 0.9022 - val_loss: 0.6750 - val_accuracy: 0.8017\n",
            "Epoch 9/15\n",
            "1563/1563 [==============================] - 9s 6ms/step - loss: 0.2502 - accuracy: 0.9137 - val_loss: 0.6507 - val_accuracy: 0.8096\n",
            "Epoch 10/15\n",
            "1563/1563 [==============================] - 9s 6ms/step - loss: 0.2092 - accuracy: 0.9268 - val_loss: 0.6857 - val_accuracy: 0.8115\n",
            "Epoch 11/15\n",
            "1563/1563 [==============================] - 9s 6ms/step - loss: 0.1883 - accuracy: 0.9368 - val_loss: 0.6607 - val_accuracy: 0.8175\n",
            "Epoch 12/15\n",
            "1563/1563 [==============================] - 9s 6ms/step - loss: 0.1630 - accuracy: 0.9433 - val_loss: 0.7431 - val_accuracy: 0.8130\n",
            "Epoch 13/15\n",
            "1563/1563 [==============================] - 9s 6ms/step - loss: 0.1497 - accuracy: 0.9482 - val_loss: 0.6893 - val_accuracy: 0.8184\n",
            "Epoch 14/15\n",
            "1563/1563 [==============================] - 9s 6ms/step - loss: 0.1307 - accuracy: 0.9565 - val_loss: 0.7081 - val_accuracy: 0.8255\n",
            "Epoch 15/15\n",
            "1563/1563 [==============================] - 9s 6ms/step - loss: 0.1180 - accuracy: 0.9608 - val_loss: 0.8848 - val_accuracy: 0.8097\n"
          ],
          "name": "stdout"
        },
        {
          "output_type": "execute_result",
          "data": {
            "text/plain": [
              "<tensorflow.python.keras.callbacks.History at 0x7f2a1fd58910>"
            ]
          },
          "metadata": {
            "tags": []
          },
          "execution_count": 7
        }
      ]
    },
    {
      "cell_type": "markdown",
      "metadata": {
        "id": "M_1ojOqOnyfv"
      },
      "source": [
        "# Fit with data augmentation\r\n",
        "step_per_epochs = N/batch_size"
      ]
    },
    {
      "cell_type": "code",
      "metadata": {
        "id": "OYxtqA8Bnxqe"
      },
      "source": [
        "batch_size = 32\r\n",
        "step_per_epochs = X_train.shape[0]//batch_size\r\n",
        "data_generator = tensorflow.keras.preprocessing.image.ImageDataGenerator(\r\n",
        "     rotation_range=40,\r\n",
        "        width_shift_range=0.1,\r\n",
        "        height_shift_range=0.1,\r\n",
        "        horizontal_flip=True,\r\n",
        ")"
      ],
      "execution_count": 10,
      "outputs": []
    },
    {
      "cell_type": "code",
      "metadata": {
        "colab": {
          "base_uri": "https://localhost:8080/"
        },
        "id": "r7BqqxpLovMC",
        "outputId": "f451978a-aea2-4eb4-9e85-2cad18ab29c8"
      },
      "source": [
        "train_generator = data_generator.flow(X_train,y_train,batch_size)\r\n",
        "r = model.fit_generator(train_generator,validation_data=(X_test,y_test),steps_per_epoch=step_per_epochs,epochs=15)"
      ],
      "execution_count": 11,
      "outputs": [
        {
          "output_type": "stream",
          "text": [
            "Epoch 1/15\n",
            "   7/1562 [..............................] - ETA: 29s - loss: 0.9854 - accuracy: 0.6205"
          ],
          "name": "stdout"
        },
        {
          "output_type": "stream",
          "text": [
            "/usr/local/lib/python3.7/dist-packages/tensorflow/python/keras/engine/training.py:1844: UserWarning: `Model.fit_generator` is deprecated and will be removed in a future version. Please use `Model.fit`, which supports generators.\n",
            "  warnings.warn('`Model.fit_generator` is deprecated and '\n"
          ],
          "name": "stderr"
        },
        {
          "output_type": "stream",
          "text": [
            "1562/1562 [==============================] - 31s 20ms/step - loss: 0.7873 - accuracy: 0.7300 - val_loss: 0.6080 - val_accuracy: 0.7994\n",
            "Epoch 2/15\n",
            "1562/1562 [==============================] - 31s 20ms/step - loss: 0.7198 - accuracy: 0.7526 - val_loss: 0.5790 - val_accuracy: 0.8129\n",
            "Epoch 3/15\n",
            "1562/1562 [==============================] - 31s 20ms/step - loss: 0.6801 - accuracy: 0.7665 - val_loss: 0.5807 - val_accuracy: 0.8059\n",
            "Epoch 4/15\n",
            "1562/1562 [==============================] - 31s 20ms/step - loss: 0.6516 - accuracy: 0.7755 - val_loss: 0.5698 - val_accuracy: 0.8128\n",
            "Epoch 5/15\n",
            "1562/1562 [==============================] - 31s 20ms/step - loss: 0.6216 - accuracy: 0.7874 - val_loss: 0.5433 - val_accuracy: 0.8175\n",
            "Epoch 6/15\n",
            "1562/1562 [==============================] - 31s 20ms/step - loss: 0.6051 - accuracy: 0.7926 - val_loss: 0.5263 - val_accuracy: 0.8265\n",
            "Epoch 7/15\n",
            "1562/1562 [==============================] - 31s 20ms/step - loss: 0.5854 - accuracy: 0.7985 - val_loss: 0.5838 - val_accuracy: 0.8038\n",
            "Epoch 8/15\n",
            "1562/1562 [==============================] - 31s 20ms/step - loss: 0.5730 - accuracy: 0.8030 - val_loss: 0.5146 - val_accuracy: 0.8267\n",
            "Epoch 9/15\n",
            "1562/1562 [==============================] - 31s 20ms/step - loss: 0.5472 - accuracy: 0.8115 - val_loss: 0.4965 - val_accuracy: 0.8289\n",
            "Epoch 10/15\n",
            "1562/1562 [==============================] - 31s 20ms/step - loss: 0.5420 - accuracy: 0.8131 - val_loss: 0.5286 - val_accuracy: 0.8258\n",
            "Epoch 11/15\n",
            "1562/1562 [==============================] - 32s 20ms/step - loss: 0.5267 - accuracy: 0.8196 - val_loss: 0.4852 - val_accuracy: 0.8400\n",
            "Epoch 12/15\n",
            "1562/1562 [==============================] - 31s 20ms/step - loss: 0.5159 - accuracy: 0.8219 - val_loss: 0.4809 - val_accuracy: 0.8386\n",
            "Epoch 13/15\n",
            "1562/1562 [==============================] - 31s 20ms/step - loss: 0.5085 - accuracy: 0.8246 - val_loss: 0.5016 - val_accuracy: 0.8364\n",
            "Epoch 14/15\n",
            "1562/1562 [==============================] - 31s 20ms/step - loss: 0.4955 - accuracy: 0.8288 - val_loss: 0.4673 - val_accuracy: 0.8488\n",
            "Epoch 15/15\n",
            "1562/1562 [==============================] - 32s 20ms/step - loss: 0.4852 - accuracy: 0.8336 - val_loss: 0.4644 - val_accuracy: 0.8475\n"
          ],
          "name": "stdout"
        }
      ]
    },
    {
      "cell_type": "markdown",
      "metadata": {
        "id": "Q3wYC5taS5B3"
      },
      "source": [
        "As you see the val_accuracy improved by image preprocessing\r\n"
      ]
    }
  ]
}