{
  "nbformat": 4,
  "nbformat_minor": 0,
  "metadata": {
    "colab": {
      "name": "2_Prove Moore's Law.ipynb",
      "provenance": [],
      "collapsed_sections": [],
      "authorship_tag": "ABX9TyOWBsl4zTrCwOlk8vJNIHhd",
      "include_colab_link": true
    },
    "kernelspec": {
      "name": "python3",
      "display_name": "Python 3"
    }
  },
  "cells": [
    {
      "cell_type": "markdown",
      "metadata": {
        "id": "view-in-github",
        "colab_type": "text"
      },
      "source": [
        "<a href=\"https://colab.research.google.com/github/NeginKhalifat/TensorFlow_PracticeNotes/blob/main/2_Prove_Moore's_Law.ipynb\" target=\"_parent\"><img src=\"https://colab.research.google.com/assets/colab-badge.svg\" alt=\"Open In Colab\"/></a>"
      ]
    },
    {
      "cell_type": "markdown",
      "metadata": {
        "id": "w3sFb2AyjQ8i"
      },
      "source": [
        "# Moore's law:\r\n",
        "          C=A r^(t)"
      ]
    },
    {
      "cell_type": "markdown",
      "metadata": {
        "id": "wz86xTQfT2gQ"
      },
      "source": [
        "# Upload Dataset"
      ]
    },
    {
      "cell_type": "code",
      "metadata": {
        "id": "DheD_sBHfSlR"
      },
      "source": [
        "import os.path\r\n",
        "from os import path\r\n",
        "if not path.exists(\"moore.csv\"):\r\n",
        "  !wget https://raw.githubusercontent.com/lazyprogrammer/machine_learning_examples/master/tf2.0/moore.csv\r\n"
      ],
      "execution_count": 25,
      "outputs": []
    },
    {
      "cell_type": "code",
      "metadata": {
        "id": "I8OlYAy1hFsn"
      },
      "source": [
        "import numpy as np\r\n",
        "import tensorflow as tf\r\n",
        "import matplotlib.pyplot as plt\r\n",
        "import pandas as pd\r\n",
        "import tensorflow as tf \r\n",
        "data= pd.read_csv('moore.csv',header=None)\r\n"
      ],
      "execution_count": 26,
      "outputs": []
    },
    {
      "cell_type": "code",
      "metadata": {
        "id": "c9B-Vb9EiNlQ"
      },
      "source": [
        "X=(data.iloc[:,0]).values.reshape(-1,1)\r\n",
        "y=data.iloc[:,1]\r\n"
      ],
      "execution_count": 27,
      "outputs": []
    },
    {
      "cell_type": "markdown",
      "metadata": {
        "id": "x8w16esjkz_e"
      },
      "source": [
        "\r\n",
        "> reshape:(-1)  It simply means that it is an unknown dimension and we want numpy to figure it out.\r\n",
        "\r\n",
        "\r\n"
      ]
    },
    {
      "cell_type": "code",
      "metadata": {
        "colab": {
          "base_uri": "https://localhost:8080/",
          "height": 294
        },
        "id": "09YFnynhjr9O",
        "outputId": "e51a41e7-651e-4a2f-c989-7f75306cf84c"
      },
      "source": [
        "plt.scatter(X,y)"
      ],
      "execution_count": 28,
      "outputs": [
        {
          "output_type": "execute_result",
          "data": {
            "text/plain": [
              "<matplotlib.collections.PathCollection at 0x7f1e4e276898>"
            ]
          },
          "metadata": {
            "tags": []
          },
          "execution_count": 28
        },
        {
          "output_type": "display_data",
          "data": {
            "image/png": "[encoded data removed]",
            "text/plain": [
              "<Figure size 432x288 with 1 Axes>"
            ]
          },
          "metadata": {
            "tags": [],
            "needs_background": "light"
          }
        }
      ]
    },
    {
      "cell_type": "code",
      "metadata": {
        "colab": {
          "base_uri": "https://localhost:8080/",
          "height": 283
        },
        "id": "lSC5RGU4lNGs",
        "outputId": "297bb7b9-cd7d-47bd-f1e6-df981d5e8088"
      },
      "source": [
        "y = np.log(y)\r\n",
        "plt.scatter(X,y)"
      ],
      "execution_count": 29,
      "outputs": [
        {
          "output_type": "execute_result",
          "data": {
            "text/plain": [
              "<matplotlib.collections.PathCollection at 0x7f1e4e295a58>"
            ]
          },
          "metadata": {
            "tags": []
          },
          "execution_count": 29
        },
        {
          "output_type": "display_data",
          "data": {
            "image/png": "[encoded data removed]",
            "text/plain": [
              "<Figure size 432x288 with 1 Axes>"
            ]
          },
          "metadata": {
            "tags": [],
            "needs_background": "light"
          }
        }
      ]
    },
    {
      "cell_type": "code",
      "metadata": {
        "id": "rVx5S9buQjn5"
      },
      "source": [
        "X=X-X.mean()"
      ],
      "execution_count": 30,
      "outputs": []
    },
    {
      "cell_type": "code",
      "metadata": {
        "colab": {
          "base_uri": "https://localhost:8080/",
          "height": 283
        },
        "id": "bRdab898UCPD",
        "outputId": "ccfc00e0-52b0-43bc-c2ca-0e96acb7d785"
      },
      "source": [
        "plt.scatter(X,y)"
      ],
      "execution_count": 40,
      "outputs": [
        {
          "output_type": "execute_result",
          "data": {
            "text/plain": [
              "<matplotlib.collections.PathCollection at 0x7f1e4e6aafd0>"
            ]
          },
          "metadata": {
            "tags": []
          },
          "execution_count": 40
        },
        {
          "output_type": "display_data",
          "data": {
            "image/png": "[encoded data removed]",
            "text/plain": [
              "<Figure size 432x288 with 1 Axes>"
            ]
          },
          "metadata": {
            "tags": [],
            "needs_background": "light"
          }
        }
      ]
    },
    {
      "cell_type": "markdown",
      "metadata": {
        "id": "riLXgQJdlZ4n"
      },
      "source": [
        "Create Model to find slop of line:"
      ]
    },
    {
      "cell_type": "code",
      "metadata": {
        "id": "yqTiZ2eElYyp"
      },
      "source": [
        "model= tf.keras.Sequential([\r\n",
        "                            tf.keras.layers.Dense(1,input_shape=(1,))\r\n",
        "])"
      ],
      "execution_count": 31,
      "outputs": []
    },
    {
      "cell_type": "code",
      "metadata": {
        "id": "EMylzCmMmDm8"
      },
      "source": [
        "\r\n",
        "from tensorflow.keras.optimizers import SGD\r\n",
        "model.compile(optimizer=SGD(0.001,0.9),loss='mse')\r\n"
      ],
      "execution_count": 32,
      "outputs": []
    },
    {
      "cell_type": "markdown",
      "metadata": {
        "id": "vT_ZY60rPGWk"
      },
      "source": [
        "# Learning Rate decay: "
      ]
    },
    {
      "cell_type": "markdown",
      "metadata": {
        "id": "nSanAVavNvAN"
      },
      "source": [
        "\r\n",
        "\r\n",
        "slowly reduce alpha:\r\n",
        "            \r\n",
        "\r\n",
        "      alpha = (1/(1+decay_rate) * #epoch) * alpha_prev"
      ]
    },
    {
      "cell_type": "markdown",
      "metadata": {
        "id": "d4mxKZ6RUMe5"
      },
      "source": [
        "![lr.png](data:image/png;base64,iVBORw0KGgoAAAANSUhEUgAABzwAAAMVCAIAAACN7hXFAAAAAXNSR0IArs4c6QAAAARnQU1BAACxjwv8YQUAAAAJcEhZcwAAFiUAABYlAUlSJPAAAHP/SURBVHhe7f1/6Dz3nSf47d/JcRzLQQ4uhEEsFzawbGBgL8smN7k/dAx4TuDFQTgwKMSeDWPDeiDYEOw/zuYc5QyCgDgS/WP/4WhAeMGYNeuccwMTxvHE8SAhNLbjyPJaI3vkGEtjPBbOV4xwSt96VuvdXV3d1d1V1e/uejwo5P68Xu/69Xp3d3W9aPf37/0GAAAAAIBqaNoCAAAAAFRE0xYAAAAAoCKatgAAAAAAFdG0BQAAAACoiKYtAAAAAEBFNG0BAAAAACqiaQsAAAAAUBFNWwAAAACAimjaAgAAAABURNMWAAAAAKAimrYAAAAAABXRtAUAAAAAqIimLQAAAABARTRtAQAAAAAqomkLAAAAAFARTVsAAAAAgIpo2gIAAAAAVETTFgAAAACgIpq2AAAAAAAV0bQFAAAAAKiIpi0AAAAAQEU0bQEAAAAAKqJpCwAAAABQEU1bAAAAAICKaNoCAAAAAFRE0xYAAAAAoCKatgAAAAAAFdG0BQAAAACoiKYtAAAAAEBFNG0BAAAAACqiaQsAAAAAUBFNWwAAAACAimjaAgAAAABURNMWAAAAAKAimrYAAAAAABXRtAUAAAAAqIimLQAAAABARTRtAQAAAAAqomkLAAAAAFARTVsAAAAAgIpo2gIAAAAAVETTFgAAAACgIpq2AAAAAAAV0bQFAAAAAKiIpi0AAAAAQEU0bQEAAAAAKqJpCwAAAABQEU1bAAAAAICKaNoCAAAAAFRE0xYAAAAAoCKatgAAAAAAFdG0BQAAAACoiKYtAAAAAEBFNG0BAAAAACqiaQsAAAAAUBFNWwAAAACAimjaAgAAAABURNMWAAAAAKAimrYAAAAAABXRtAUAAAAAqIimLQAAAABARTRtAQAAAAAqomkLAAAAAFARTVsAAAAAgIpo2gIAAAAAVETTFgAAAACgIpq2AAAAAAAV0bQFAAAAAKiIpi0AAAAAQEU0bQEAAAAAKqJpCwAAAABQEU1bAAAAAICKaNoCAAAAAFRE0xYAAAAAoCKatgAAAAAAFdG0BQAAAACoiKYtAAAAAEBFNG0BAAAAACqiaQsAAAAAUBFNWwAAAACAimjaAgAAAABURNMWAAAAAKAimrYAAAAAABXRtAUAAAAAqIimLQAAAABARTRtAQAAAAAqomkLAAAAAFARTVsAAAAAgIpo2gIAAAAAVETTFgAAAACgIpq2AAAAAAAV0bQFAAAAAKiIpi0AAAAAQEU0bQEAAAAAKqJpCwAAAABQEU1bAAAAAICKaNoCAAAAAFRE0xYAAAAAoCKatgAAAAAAFdG0BQAAAACoiKYtAAAAAEBFNG0BAAAAACqiaQsAAAAAUBFNWwAAAACAimjaAgAAAABURNMWAAAAAKAimrYAAAAAABXRtAUAAAAAqIimLQAAAABARTRtAQAAAAAqomkLAAAAAFARTVsAAAAAgIpo2gIAAAAAVETTFgAAAACgIpq2AAAAAAAV0bQFAAAAAKiIpi0AAAAAQEU0bQEAAAAAKqJpCwAAAABQEU1bAAAAAICKaNoCAAAAAFRE0xYAgD3+Xh1yNAAAsCY+BwMA3K00PlcpJQAAgBvk4ywAwE1Kb5ILpJQAAFAZH1UBACqVziJXkmkAAIDF+TAKAHBNaRByUzJ5AAAwD584AQCWkG7fjchBVyAHdCNy0AAAcBmfLAEAJpYGXgVyQKuUElQgBwQAAKP5EAkAcJF05haX3XOZVHNZ2TcAAAzwkREA4ATpui0iu+RKMg2LyC4BAOAhHxABAAalozan7ImbksmbU/YEAMAq+TgIAPCeNMzmkX1wpzLN88g+AABYB5//AIBVS0tsatk6q5cnxNSydQAA7pQPfADAuqTpNZ1sF0bLU2c62S4AAPfCJzwA4P6lszWRbBSmk+fWRLJRAABulo90AMAdSu9qCtkiLChPvilkiwAA3BQf4wCAO5Ee1cWyOahJnp2XybYAAKiej24AwA1LL+oy2RbciDxxL5NtAQBQJR/XAIAbk57TBbIhuAt5Wl8gGwIAoBo+ogEANyC9pXNlK7ACedKfK1sBAOCqfCwDACqVHtK5shVYsbwYzpWtAACwOB/FAIC6pF10lmwC6MmL5CzZBAAAS/EJDAC4vnSGzpJNAKPlxXOWbAIAgDn51AUAXE2aQKfL+sDF8qI6XdYHAGAGPmwBAItKv+d0WR+YTV5sp8v6AABMxAcsAGAJae2cKCsDi8uL8ERZGQCAy/hcBQDMKI2cE2VloA55ZZ4iawIAcBYfpwCA6aVtc4qsCVQsL9dTZE0AAE7hUxQAMJk0aU6RNYFbk9fwaFkNAIARfHgCAC6VlsxoWQ24C3lhj5bVAAAY5jMTAHCmNGBGy2rAncpLfbSsBgBAj49KAMBp0m4ZLasBq5EX/2hZDQCAjk9IAMAoaa6MltWAFcvbwWhZDQBg9XwwAgCOSDdlnKwDUMgbxDhZBwBgxXwkAgD2S/tknKwDcFDeMsbJOgAA6+OTEACwJc2ScbIOwInyJjJO1gEAWA0fgACASHdkhKwAcLG8rYyQFQAAVsBHHwBYu7RDRsgKADPIG80IWQEA4H75xAMA65X+xwhZAWB+ed85JqMBAO6RzzoAsDppeIyQFQAWl7ehEbICAMAd8REHAFYkHY5jMhqgAnljOiajAQDugg83AHD/0tIYISsAVCZvUiNkBQCAW+YzDQDcs/QwjslogOrlbeuYjAYAuE0+zQDAfUrf4piMBrgpeQs7JqMBAG6NzzEAcG/SqzgoQ+GgPF1mlp3BWfI0OihDAQBuh08wAHAn0pw4JqNZqzwPblPOAXryFDkmowEAqueDCwDcvHQjDspQ1iGzviY5c1YvT4iDMhQAoGI+sgDADUsH4qAM5R5ljhmWSrEymf6DMhQAoEo+rADATUrX4aAM5S5kUplCasq9y3wflKEAAJXxMQUAbkw6DQdlKDcrE3lVOZT5ZX9XlUPhHmWOD8pQAIBq+IACADcj3YVhGccNyhTOL/u7TTmH+WV/3JfM7rCMAwCogI8mAHAD0lEYlnHcjszcPLKPNcmZzyP74C5kUodlHADAVflQAgBVSxdhWMZxCzJn08l2GZZKTSfb5cZlOodlHADAlfg4AgCVSudgWMZRt8zWFLJFLpNqTiFb5GZlIodlHADA4nwQAYDqpFswLOOoVebpMtkW80vFL5NtcYMyhcMyDgBgQT6CAEBF0iEYlnHUJzN0gWyIa8t8XCAb4qZk8oZlHADAInz4AIAqpCswLOOoSebmXNkKdctsnStb4UZk2oZlHADAzHzsAIArSydgWMZRjUzM6bI+tyxzebqszy3InA3LOACA2fjAAQBXk7v/YRlHBTIlp8v63KPM8emyPnXLbA3LOACAGfioAQBXkDv+YRnHtWU+TpSVWZPM/YmyMhXLVA3LOACASfmQAQBLy43+gAziqjIZp8ia4PlzjzJPwzIOAGAiPl4AwHJycz8gg7iezMQpsibsk2fJKbImVcokDcggAIAp+GwBAEvIPf2ADOJKMg2jZTU4RZ49o2U16pMZGpBBAACX8akCAOaV+/hhGcc1ZA7GyTpwmTyfRstqVCbTMyCDAADO5fMEAMwl9+7DMo7FZQLGyTowtTzDxsk61CRzMyzjAABO55MEAMwit+wDMohlpfrjZB2YX55z42QdqpGJGZBBAAAn8jECACaWO/UBGcSyUv0RsgJcQ56FI2QFqpGJGZBBAACj+QABAJPJ3fmADGJBKf0IWQHqkOflCFmBOmRWBmQQAMAIPjoAwDRyUz4gg1hK6j5CVoAq5Wl6TEZTgUzJgAwCADjG5wYAuFTuxQdkEEtJ3Y/JaLgFedYek9FUIFMyIIMAAIb5xAAA58v994AMYimp+0EZCrcpz+ODMpQKZEoGZBAAwD4+KwDAmXLbPSCDmF8qfkxGw+3Lc/qYjOaqMhkDMggAoMcHBQA4We62B2QQ80vFj8louDt5ih+UoVxVJmNABgEAFHxEAIDT5CZ7n4xgfqn4QRkK9y7P+IMylKvKZOyTEQAAHZ8PAGCs3FsPyCBmlnIflKGwJnn2H5PRXEmmYUAGAQBo2gLASLml3icjmFNqfUxGw1rllXBMRnMlmYZ9MgIAWD0fCwDgiNxJ75MRzCzlHpZxQCevjYMylCvJNOyTEQDAivlAAACH5AZ6n4xgTqn1sIwD9snrZFjGcSWZhn0yAgBYK58GAGC/3DfvkxHMKbUelnHAMXnNDMs4riTTsE9GAADr43MAAOyR2+V9MoLZpNDDMg44RV4/wzKOa8gc7JMRAMDK+BAAALtyo9yTNLNJoYdlHHCuvJaGZRzXkDnoSRoAWBOfAADgPbk/3icjmEeqPCzjgCnkdTUs41hcJmCfjAAA1sG1HwAit8U9STObFHpABgFTy2tsWMaxuExAT9IAwAq48AOAbzZdTao8IIOAOeX1NiCDWFwmYJ+MAADumks+AGuXm+B9MoIZpMQDMghYSl57AzKIxWUCepIGAO6X6z0Aq5bb356kmUFKPCzjgMXlRTggg1hWqt+TNABwp1zsAVip3PXukxFMLfUdlnHA9eTVOCzjWFBKv09GAAB3x2UegDXKzW5P0swgJR6QQUAd8sockEEsK9XvSRoAuC+u8QCsTm5ze5JmaqnvgAwC6pNX6YAMYkEpfU/SAMAdcYEHYF1yg9uTNFNLfffJCKBuecXukxEsKKXfJyMAgLvg0g7AWuSmtidpppb67pMRwO3Iq3efjGBBKX1P0gDA7XNdB2AVcjvbkzSTSnEHZBBwa/IaHpBBLCV170kaALhxLuoA3L/cyPYkzaRS3H0yArhleT3vkxEsJXXvSRoAuGWu6ADcs9y/9iTN1FLffTICuH15VQ/IIJaSuvckDQDcJtdyAO5Wblt7kmZSKe4+GQHcl7zC98kIlpK69yQNANwgF3IA7lNuWHuSZlIpbk/SwP3Kq70naZaSuvckDQDcGldxAO5QblV7kmY6qew+GQHcu7zm98kIFpGi9yQNANwUl3AA7k1uUrclx6RS3J6kgTXJ678naZaSum9LDgC4Ha7fANyP3Jv2JM10Utl9MgJYn7wL7JMRLCJF70kaALgFrtwA3InckvYkzXRS2X0yAlirvBfskxEsIkXvSRoAqJ7LNgD3IDejPUkznVS2J2kAbxR1SNF7kgYA6uaaDcDNy21oT9JMJGXdJyMAOnl32CcjmF8q3pM0AFAxF2wAbltuQHuSZiIpa0/SAPvknaInaRaRom9LDgColas1ADcst57bkmM6qWxP0gDD8n7RkzSLSNG3JQcAVMmlGoBblZvObckxnVS2J2mAY/Ku0ZM0i0jRtyUHANTHdRqAm5TbzW3JMZGUtSdpgFPkHaQnaeaXivckDQDUxBUagNuTu8xtyTGRlLUnaYDT5X2kJ2nml4r3JA0AVMPlGYAbk/vLbckxkZS1J2mAc+XdpCdp5peK9yQNANTBtRmAW5I7y23JMZGUtSdpgIvlbWVbcswvFe9JGgCogAszADcj95TbkmMiKeu25ACmk/eXbckxv1S8J2kA4NpclQG4AbmV7EmaKaSmPUkDTC3vMj1JM7OUuydpAOCqXJIBqF1uInuSZgqpaU/SAPPIe01P0sws5e5JGgC4HtdjAKqW28eepJlCatqTNMCc8o7TkzQzS7l7kgYArsTFGIB65caxJ2mmkJr2JA0wv7zv9CTNzFLunqQBgGtwJQagUrll7EmaKaSm25IDWFbeg7Ylx/xS8W3JAQCLcxkGoEa5WexJmimkptuSA7iGvBNtS475peLbkgMAluUaDECNcqe4LTmmkJpuSw7gevJ+tC055peKb0sOAFiQCzAA1ck94rbkmEJqui05gGvLu9K25JhfKl5IAgBYkAswAHXJDeK25JhCarotObhfj3zl9/KIW5D3pm3JMb9UvJAEALAUV18AKpJbw23JMYXUdFtycL8e+crvadrenLxDbUuOmaXc25IDABbh0gtALXJTuC05ppCabksO7pqm7Y3K+9S25JhZyr0tOQBgfq67AFQht4PbkmMKqem25ODeadrerrxbbUuOmaXc25IDAGbmogvA9eVGcFtyTCE13ZYcrEDbsdW3vVF5z9qWHDNLubclBwDMyRUXgCvLLeC25JhCarotOViBTa9W0/Z25Z1rW3LMLOXelhwAMBuXWwCuKTd/25JjCqnptuRgBcpGrabtTcv717bkmFnKvS05AGAerrUAXE1u+7YlxxRS023JwTpo2t6TvIttS46ZpdzbkgMAZuBCC8B15IZvW3JMITXdlhysxk6jVt/21uW9bFtyzCzl3pYcADA1V1kAriN3e4UkmEJqui05WBNN2/uTd7RtyTGzlLuQBAAwNVdZAK4gt3qFJJhCarotOVgZTdu7lPe1bckxs5S7kAQAMCmXWACWlpu8bclxsRR0W3JwgTyZppatz0bT9l7lCbQtOWaWcheSAACm4/oKwKJye7ctOaaQmhaSgIPydKlJjuwCe1u0+rZ3I0+UQhLMLOXelhwAMBEXVwCWkxu7bckxhdS0kAR08sy4WTmNcTRt716eFoUkmFnKvS05AGAKrqwALCd3dYUkmEJqWkiCdcuz4X7lPPfRtF2DPA8KSTCzlLuQBAAwBVdWABaSW7pCEkwhNd2WHGuSuV+3thQHmrP6tvcks74tOWaWcheSAAAu5rIKwBJyM1dIgimkptuSYwUy5XPKnqaWrc/jka/8XvPf7Gmbpu2daWd8R3LMLOUuJAEAXMY1FYDZ5TZuW3JcLAXdlhz3KzM9nWy3Jjmyc7VN21K2+5C+7Z3JHG9Ljjml1tuSAwAu4IIKwLxyA7ctOaaQmhaSYFI19PgywRfL5m5TzmGEftO2pGl7fzK1hSSYWcq9LTkA4FyupgDMK3dvhSSYQmpaSIKpXavHl3m9QDZ0v3Ke2w53bBvlgGyI25cZLSTBzFLuQhIAwLlcTQGYUW7dCkkwhdS0kARTe+Qrv7dw0zYzerqsv25NHU5q2m5kfW5Z5rKQBDNLuQtJAABncSkFYC65aduWHBdLQbclx9QWa9pmIk+Ulbe1x7xZEl2NzSmnRj3NgDzap12XW5Qp3JYcM0u5C0kAAKdzHQVgLrljKyTBFFLTQhJMrW3/zdr3zBSeImsO2zng5s9ZT6E2e082tes0Y/JoWNbkpmTyCkkws5S7kAQAcDrXUQBmkdu1QhJMITUtJMEM2vbfTB3PzN84WWecvQc801nUZsxpNvVshrWFHSOrcSMybYUkmFnKXUgCADiRiygA08uNWiEJppCaFpJgBpv237TtzszcOFnnFAeOdtoTqdPIc2yHpcrjtCtyEzJnhSSYWcpdSAIAOIUrKAATyy3atuS4WAq6LTmmVvb+pup1Zs5GyApnOXy0U51LtUae4M6w1H2ErED1MmGFJJhTar0tOQBgNJdPACaW+7NCEkwhNS0kwdR2OnoXNjozWyNkhcscPdoLT6dm409taGRmYoSsQK0yT4UkmFnKXUgCABjN5ROAKeXmrJAEU0hNC0kwtX477+wuZ6ZqQLPZoSXrn27kupfsombjz+voyEzSMRlNlTJJhSSYWcpdSAIAGMe1E4DJ5LaskARTSE0LSTC1vb28M1qcmacBzQYPbPOM3W2MX/eSvdTp1DMaOT5zdlCGUp/MUCEJZpZyF5IAAEZw4QRgMrknKyTBFFLTQhJMbW8j76RuYGZoQLOpMVs7aY+l8SuevYtqnXpGJ43P/B2UodQkc1NIgpml3IUkAIARXDgBmEZuyApJMIXUtJAEUxvq4o3s7mV6BjQbGd8lPKmfWDppxbP3UqEzzuW80890Dss4qpGJKSTBzFLuQhIAwDGumgBMILdihSSYQmpaSIIZDHXxjnb3Mjf7NOu2S4aOVu0qdVr43DO7wzKOOmRWCkkws5S7kAQAcJBLJgATyH1YIQmmkJoWkmBqB1p4B1KZlQGXtAUX60I2a11ynJVYrFylTPOwjOPaMh+FJJhZyl1IAgA4yCUTgEvlJqyQBFNITQtJMLXD/bu92UzJPs34dsnQs5yx+iV7vPBor+vsg5/krDPrwzKOq8pkFJJgZil3IQkAYJjrJQCXyh1YIQkuloIWkmAGh5t3O9nMx7CpGqCnbufC/U512Ms7+8gnPOXM/bCM43oyE4UkmFnK3UkUABjmegnARXL7VUiCKaSmhSSY2tHO3WZAZmJYOfhyJ21qkv02Gxm/nQnP9EJnH8nkp5DnwbCM4xoyB4UkmFnKXUgCABjgYgnA+XLjVUiCKaSmhSSY2pi2XTsmMzGgHDmVk7Y24a5HbqoZNu35nueSY5jp+POcGJBBXEPmoJAEM0u5C0kAAPu4UgJwvtx1FZJgCqlpJ1GmNr47mZnYJ4NmaGKetLXJd310g+2AMSNndcneZz3yPD8GZBCLywR0EmVmKXchCQBgH1dKAM6UW65CEkwhNS0kwdTG9Oya+jfD2onYkREPNWMm7wCetMHJ9944vM1NtnnQLu2fC7twv3Mfdp4rAzKIBaX0hSSYWcpdSAIA6HGZBOBMud/qJMoUUtNCEkztaLcuE7CvaZsRhZl6fyM3O1/n8fCWm2w5oP1zJziry3e0zKHmebNPRrCglL6QBDNLuTuJAgA9LpMAnCM3W4UkmEJqWkiCSR1u1aX0nWZwHj2UQduaMXO0/0Zuc45dbxw+taHU4bWmcvkuFjjIVp49AzKIRaTohSSYWcpdSAIA2OYaCcDJcptVSIIppKaFJJjagVZdSl9oBrcPMmJAM6y/JHeukVu4fEdHDe3i8K6b7NCSEZeZZDtTHcwY7RNpr4xgESl6IQlmlnIXkgAACi6QAJws91iFJJhCatpJlKkdaNKl9Nua8c1/M+JEzbqbJaFTjFzrvI2fau9ezt51s+LQkhEjnDR4yCQbOUn7vNorI5hfKt5JlJml3IUkAICCCyQAp8kNViEJppCaFpJgUkMduhR9n6maes12NktCI4wZfNIGL9Hf0Ry7brY5tGREpx85wyQbOVWeW/tkBDNLuQtJMLOUu5AEANBxdQTgNLm7KiTBFFLTTqJMaqg9l6L3tNk5mnrNNjdLQgPG7H3MmKn097Xw3scsGT3OqeMnlOdZT9LMLOXuJMr8UvFOogBAx9URgBPk1qqQBFNITQtJMKm97blUvCfp+Zt6bZ9xaC9j9j73Ee7Y2d3Cey8dKNpJS1a7hjzbepJmTql1IQlmlnIXkgAAHnJpBOAEua/qJMpEUtZOokyq35tLuffJiIcWa+rt7SEe3ftih1cqd3qVA2hMtd9mO+2Sv68hT7uepJlNCt1JlPml4p1EAYCHXBoBGCs3VYUkmEJqWkiC6fRbcql1T9KF5dt5Oz3Ewwew/OG1xh/hTCbcabup5r9XOZFWnn89STOPVLmQBDNLuQtJAADNhTL/CwDH5I6qkygTSVk7iTKpnWZcat2T9LZrNfLaHmK7JLTPtQ6vsdn1VY5hwp2Wm2oeX+V0GnkW9iTNPFLlTqLMLxXvJAoANFfJ/C8AHJTbqUISTCE1LSTBdHZ6cCl0T9I912rhbbRtxM2SaKcfWdJm78sfxoR73FvV5c+okediT9LMICUuJMHMUu5CEgCwei6KAIySe6lOokwkZe0kyqTK7lsKvS25AVdp3pV2DqDtJ7ZL+2cbv5ZrHcaEexzaVBNf/rwaeV5uS44ZpMSdRJlfKt5JFABWz0URgONyI1VIgimkpoUkmM6m6ZYS97TZA67StisdOIC2q1jDES5/DBPu8fCmrnJ2eXb2JM2kUtxCEsws5S4kAQDr5ooIwHG5i+okykRS1k6iTKptt6XEPe2Yw5Zv2PUNHcMm3jy47nEufADT7mvM1pYvb56jPUkzqRS3kyjzS8U7iQLAurkiAnBEbqEKSTCF1LSQBNNpG22pb0875qjlu3V9Q8ewE2/+bJf8vaCF9zvtvkZubfnC5pnakzTTSWULSTCzlLuQBACsmMshAEfk/qmTKBNJWTuJMqlHvvJ7qW9PRoywfKuub+gYDsSXP+wl9zj5vkZucPmq5vnakzTTSWU7iTK/VLyTKACsmMshAIfk5qmQBFNITQtJ0PPIuf3HZq0Ud1vSoy3fp+sbOobDx9Zklzz4JXc3+Y7Gb3DJ09zIc3dbckwkZS0kwcxS7kISALBWroUAHJI7p06iTCRlLSRBT9sgaztlJ/XLmpEpbiG5U4zf43yGjmHMsTVj2iV/z6bdxWI7mtap21zgNHfkGbwtOSaSsnYSZX6peCdRAFgr10IADsmdUydRJpKydhJln0d6Dcc20o+XmlSKW0juRAf2spihYzjp2JrBc59Lu/1l9jKtM7Y592n25Xm8LTmmkJp2EmV+qXghCQBYJRdCAAblnqmQBFNITQtJMOBAd6xJ7SxNsClp86Ct7UY7/gztNq9r5xjaM22XhEY7b62R2i3Pt/3WTNs/Y7Nzn2lfns3bkuNiKWghCWaWcheSAIBVciEEYFDumTqJMpGUtZMowx45pc/YDr77JWd7rmm3trHZ1ITb3FHblpu15jukvfLGsS05LpaCdhJlfql4J1EAWCUXQgD2yw1TIQmmkJoWkuCg8a2xpqTNyLa2rSTOtXBLbq+5j6Etb7skdJZy9Qs3NWSmzTYu2fJ8R7VXntmFJLhYClpIgpml3IUkAGB9XAUB2C93S51EmUjK2kmUcR451lVsStoMaGvbSuICC/fjhix2GEeLfEC54kwHPF8dLtzyfAe2V57fhSS4WAraSZT5peKdRAFgfVwFAdgjt0qFJJhIytpJlFMMdcfakjbZ9kEjicss3IwbsvBhNLs7Y487q8xxzPPV4fItN1uY7/D68iwvJMFlUs1OoswvFS8kAQAr4xIIwB65T+okykRS1kISnKjfGmvr2cTbB63kLrNkG+6AqxxGs9OT9rszePJjnrUIU2181oMs5Vm+LTkukFIWkmB+qXgnUQBYGZdAAPbIfVInUSaSsnYS5XSPbDcTU9AZvmbbWKwHd9gVD2On2oftjJz2sOcuwlTbb7Yz96G28lzflhwXSCk7iTK/VLyTKACsjEsgALtyk1RIgomkrJ1EOVfbF0s15+nYNpbpvh119cMYeQD9YRMe+dxFmHb7cx9tK8/4bclxrtSxkyjzS8ULSQDAmrj+AbArd0idRJlIylpIggs88vArjW09Nw+Sm8gyrbcxrn4kbbXzx4C9A6Y68rkrMPn2mw3OfcyN9mlfSoJzpY6FJJhfKt5JFADWxPUPgF25Q+okykRS1k6iXKYtZtsaax8nMZ0Fmm4jVXIkbbXzR89QapKDn7sCM21/7sNutE/+UhKcK3XsJMr8UvFOogCwJq5/AGzJ7VEhCSaSsnYS5QIpZfcd2+a/c3THFui4jVTPkTTaavcP6cBBXn78l2/hsPm232x57oNvXwulJDhLithJlEWk6J1EAWA1XPwA2JJ7o06iTCRlLSTBBVLK7R9GmLw7Nnevbbx6jqTUFnyztJE21XcgddQl64409y5m3X77EtiRHKdLBQtJML9UvJMoAKyGix8A78mNUSEJJpKydhLlAinlwE/ZNsGpGmRzN/LGq+dIDjha+bPPYoHTX2YX8+2lfSGUkuAsKWInUeaXiheSAIB1cOUD4D25K+okynRS2U6inCt1HOjYblzSINusOF+L7VT1HMlhR8t+3okscPqLVXi+HbUvh1ISnC4V7CTKIlL0TqIAsA6ufAC8J3dFnUSZSMpaSIKzpIgPPTLi3x+7sEW4WCPvqHqO5LDmONslf/ecdyLLnP4ye2nMt6P2FVFKghOlfIUkmF8q3kkUANbBlQ+AyC1RIQkmkrJ2EuVcqeO4jm3rjAZZs0q71nzNtVPVcyRHtdU7cMBnnMsyp7/MXlqHS3S29kVRSoLTpYKdRJlfKl5IAgBWwGUPgMj9UCdRppPKdhLlLCniKR3b1qndsU1DbY622nnqOZKjjpbujHNZ5vSXL3Kzx8l32r40SklwopSvkyiLSNE7iQLACrjsARC5H+okynRS2U6inCVF7Jq2iY5zUmusHTxHQ+1s9RzJUWMO9dTTWeb0r1XkZr/T7rp9mWwkyolSvk6iLCJF7yQKACvgsgdA5H6okygTSVkLSXC6VPD0r9lujO+LtSMnb6VdqKqDOWDkcY4/ncVO/LoVbvY+1QG0L5BSEpwo5eskyvxS8U6iALACLnsAvCs3Q4UkmEjK2kmUs6SIZ33NdmNkU2wzbMI+2uXqOZLDTi3yUYudeA0Vbo5hksNoXywbiXKilK+TKItI0TuJAsC9c80D4F25E+okynRS2U6inC4VvOBrthtjOmLlmEk6aJOo50gOG3+cI0cuduL3NNfty6SUBKdI7TqJsogUvZMoANw71zwA3pU7oU6iTCeV7STK6VLBy75mu3G0I1YOaB5f3kGbSj1HcsBJBzlm8GJnXVV5Lz+Y9iVTSoLRUrhOoiwiRe8kCgD3zjUPAPfzs0tZC0lwopRviq/ZbjSbOtAUK1Pt4wODl1TJYRw1/jjHjFzsrGsrb3M8lxxS+2IpJcEpUrtOoswvFS8kAQB3zQUPADeis0tlO4lyopTvoUem+JptaagjVsY3jy9pn02lhmMY46TjPDp4sbOus7zNUZ19YO0Lp5QEo6VwnURZRIreSRQA7poLHgDuhWaXynYS5UQp36Rfsy3t7YiVkaHHV3H1AxjppOM8OnjJs75uhZu9712SPl37kiklwWgpXCdRFpGidxIFgLvmggeAe6HZpbKdRDlRyjfD12xLO32x8s8DqeVdd+/jnXqcB8YvfMpXqXCz03bJ35NqXz6lJBgnVeskyiJS9E6iAHDXXPAA1i43QIUkmE4q20mUU6R2s33NtlS2zIYet2Zqro103b2PdMZBDq2y8PnOt7tmyweWDJpH+9rZSJRxUrVOoiwlde8kCgD3y9UOYO1y99NJlOmksp1EOVHKN/PXbFtl42zo8cbcXbYDrrjr8c47yEpKPckem43sLElcQ/si2kiU0VK4TqIsIkXvJAoA98vVDmDtcvfTSZTppLKdRDlFarfI12xbm85a2WLb2267Yg/uirse7+yD7K+4/Plessdm3XbJ33VoXz6lJBgnVeskyiJS9E6iAHC/XO0A1i53P51EmU4q20mUU6R2i3zNtrXptZVNt6EGXBMfSs3qKjs9w3nH2V/rVorcrNIu+bsy7UtpI1HGSdU6ibKIFL2TKADcL1c7gLXL3U8nUaaTynYS5RRt6R5Z6mu2rbbpVrbeDrfhmuzhAZNbeHdnO/s4d1a8yvmesdPK56V9EW0kyjipWidRFpGiF5IAgDvlUgewarnv6STKpFLcTqKMlsJdo2m7030b04zrrzWfxXZ0oUuOs1z3Kud76k7rn5T2RVRKghFSsk6iLCV17yQKAHfKpQ5g1XLf00mUSaW4nUQZra3bI8t2bFs7Dbjx/bhlOnf19wdblxxnue5Vzveknd7KjLQvpY1EGSElKyTBIlL0TqIAcKdc6gBWLfc9nUSZTirbSZRTtKV75EpN27INV1v/boFdTOLC49ysfq3zHbnfW5mORvtSKiXBCClZJ1EWkaJ3EgWAO+VSB7Bque/pJMp0UtlOooyWwi34T5Bt7O0VntSYawa3S/6e2nxbntaFx7lZ/VrnO2a/tzIXG+3LaiNRRkjJOomyiBS9kygA3CmXOoBVy31PJ1Gmk8p2EmW0tm6PXPu3EZrH7Z/n9eba1c9b94DJNziTy4+z3cK1znfMfm9lLjbaF9RGooyQknUSZREpeiEJALhHrnMA65U7nk6iTCrF7STKaG3dHqngB20bTeTC3tzlWyhNuKlZXX6cbd2udb5H93utA7tE+4LaSJQRUrJOoiwlde8kCgD3yHUOYL1yx9NJlEmluJ1EGact2iNdx7aRxCL2duImac9N1eO7lV7hVEW71vke3e+tTEQpr6hCEhyTenUSZSmpeydRALhHrnMA65U7nk6iTCrF7STKOG3RHrnG12wbeztxU7Xnmu1cvqmpDmYBN3SofYcP/nZPrX1ZbSTKMalXJ1GWkrp3EgWAe+Q6B7BeuePpJMqkUtxOoozTVOyRK33NtrG3GTdth67ZWrvk7xNNezCzuqFD7Tt88Ld7anlddRLlmNSrkyhLSd07iQLAPXKdA1iv3PF0EmVSKW4nUcZpKvZITb+N0JijQ3f2Nm+oXXhDh9p34OBv+rzyuuokyjGpVydRlpK6dxIFgHvkOgewXrnj6STKdFLZQhKM80jRsW0kuoglm3Fn7+u2OoY33d/cHHzzoDyRmz6pvK4KSXBM6tVJlEWk6J1EAeAeuc4BrFRudzqJMqkUt5Mo4zQVe6Sy30aYySX7uqGm4U33NzcH3zwoH7cPbldeXZ1EOSb16iTKUlL3TqIAcHdc5ABWKvc6nUSZVIrbSZRxHrne12wbS/bjLtnXdfuG/+rV//Y/+b99qDmGnaUJPvtv/00GdZp4Ht2gzcG3D9rTvOkzauXV1UmUY1KvTqIsJXXvJAoAd8dFDmClcq/TSZRJpbidRBnnkXU0bS/c0RX7hv/H//ezzd4PLP+n/8+XMvShJpJHN2hz8P0HNy2vrk6iHJN6dRJlKal7J1EAuDsucgArlXudTqJMKsXtJMo4j2jajnCV1uH//f/7F3u/YLuz/MN//c+zwkNNJI9u0Obg+w9uWl5dnUQ5JvXqJMpSUvdOogBwd1zkAFYq9zqdRJlUittJlBEe2e7YNpJYxJL9uAv3dZXW4X/8f/39Zr9jlqzQ6UduxebI2web/97uGbXy6uokyjGpVydRlpK6dxIFgLvjIgewUrnX6STKpFLcTqKM8Iim7ThXaRo2Ox257PyybRPJoxvUHnz539ZNn1QjL7BOohyUYnUSZSmpeydRALg7LnIAK5V7nU6iTCrF7STKMY9ctWPbWLINd+G+lu8Y/qtX/9tmp+OX8pdtmz/z6Aa1B1/+d+OmzyuvsU6iHJRidRJlKal7J1EAuDsucgArlXudTqJMKsXtJMoxj2jajrZwu/DZf/tvmj2etJS/bNv8mUc3qD2dzeP2wcbtnlpeY51EOSjF6iTKUlL3TqIAcHdc5ABWKvc6nUSZVIrbSZSD2uZXStZpU8tYuPt2+e6WPOAxv2b7P3r6j/4n/+t/9Y/+q09tIln5gkP91rd/8bFPfP9rX/95/t7WZB9/4qVmGRowic257D2Ls0/t6vIa6yTKQSlWJ1EWlNJ3EgWA++IKB7BSudF5KCGmlvp2EuWgtvmVknXa1DIW7r5dvrslD7jZ19Hlf/rP//R3fvcvmuWf/S/+pG3dZuWHq//Jn77xsU98/0tf/mlC+/THvP+DLzYbfPSx5/P3tjZ7YMBU2nMpz6jUxA83l+uU11gnUQ5KsTqJsqCUvpMoANwXVziANcpdTidRppb6dhJl2KYdlpJ12uAyhlpyM7l8d0secLOvo8t/8nv/z7aF2izN43/0X30qKz+0aek2y+NPvPT0M6+98ebbyXU2TdgvfPEnbWSzSvO439LdZNsB82nObvPfjfJ7vu3ZPfrY8zfUt81rrJMoB6VYnURZUErfSRQA7osrHMAa5S6nkyhTS307iTKg7IWlZJ1EF7HTkpvb5btb8oCbfR1d/sf/xf+h7KK2y+NPvPSVr/7sW9/+xU68WR597Pmnnn71hRd/mX1sN2Hbvm3556al++xzr/fHt5GZbM4xfz9Ufs93cxgjv/PbfjP3ul/OzWuskygHpVidRFlQSt9JFADuiyscwBrlLqeTKFNLfTuJMqDshaVknUQXsdOSm9vlu1vygJt9jVz2tm4PL+//4Itt97bsfjbLF774k/LPzbJpjJbBl195qw1Orjmp9r/tg41y7+WyOZIDP7m72A87HJDXWCdRDkqxOomyoJS+kygA3BdXOIA1yl1OJ1Gmlvp2EmWfnUZYStZJdBE7RzK3y3e35AE3+9q7PPtv/81OpFkO920ffez5P/vm33zoo9/diZ+07HwPt1k++ZkftIc6ueaM2v+2DzbKvZfL5kjKzuxO33YzuFmaP6/yk7h5jXUS5aAUq5MoC0rpO4kCwH1xhQNYo9zldBJlaqlvJ1H22WmEpWSdROe3cxgLuHyPSx7zP/zX/7zZXX/5X/4//nc7kXJ58OCdJ5/6UdmgbJd2my+/8tbTz7z2+BMv7WRHLv3v4e784u1UmhPZedDa2Xu5tF+2LSM736gtU82fbXt34W/d5jXWSZSDUqxOoiwope8kCgD3xRUOYI1yl9NJlKmlvp1E6dnpgjVSsk6i8+sfyawm2d2Sx/wv/+Jzze5OXbLyQ82fzz73+u/87l889fSrCXX2dm/f94EXyj/HL+2XcKeycxalR7d/zKFc2i/b7gTLAyvj5Z9tdhl5jXUS5aAUq5MoC0rpO4kCwH1xhQNYo9zldBJlaqlvJ1F6+h2xlKyT6PwO9ObmMMnuljzm7/zilWZ3py5Z+aGdP4968OCdj3/q5U0386Rl78/InufAYbc96Hbpf6H45Vfe2ok0y6ZvWwbfePPtzePNv7G2gLzGOolyUIrVSZQFpfSdRAHgvrjCAaxR7nI6iTK11LeTKNv2tsNSsk6i8zu1pXihSXa3/DGfumTNTj9y2IMH73zyMz/YNDSHls1Px5bLo489f/kPxR494M3u8vdvfrM54H/ykf/LJlt2n/u/xvv0M69tHi/5Cwl5jXUS5aAUq5MoC0rpO4kCwH1xhQNYo9zldBJlaqlvJ1G27e2IpWSdROd3aj/xQpPsbuFjHvpZ26HlX/7F57Jmpwnm0SmG/tWyzZdS936ntVnaH1i4pA169IA3+8rfAwdz+FvDO03nbGh+eY11EuWgFKuTKAtK6TuJAsB9cYUDWKPc5XQSZWqpbydRCkPtsJSsk+jMzmsmXmKSPS582Kf+rO3/750HWbPTBPPoLA8evPOxT3x/09x89LHnN9+i3QT3Lu2YUx0+2m99+xflj/Am+lD/pxKa4Phfe2g3soC8xjqJclCK1UmUBaX0nUQB4L64wgGsUe5yOokytdS3kyiFoY5YStZJdGYXNhPPMMkeFz7sk37W9lMv/tdZrdDE8+hcO99j3XyLtnlQxneWdsypDh/tga/HPnjwzs7xbOL9fm5/aQcvIK+xTqIclGJ1EmVBKX0nUQC4L65wAGuUu5xOoswgJe4kykOH22EpWSfROV3eTDzVJHtc/rD/N/+v/7LZ6dElo3sOpMbb6Xu2wU8/+cMyuLO0Y05y9FDL7T/19KuJdsp/o+y3/7f/50QLB7rMGfHwy7wX/ibvYXmBdRLloBSrkygLSuk7iQLAfXGFA1ij3OV0EmUGKXEnUR463BFLyTqJzmmSZuJJJtnj8oc98su2Gd1zIDVe+X3VTbd06Gdt26Udc5Kjh3rSxvtbK7u6O0s74Fvf/sXlv8l7QF5dnUQ5KMXqJMqyUv1OogBwX1zhANYodzmdRJlBStxJlBHtsJSsk+icJmkmjjfV7hY+7NanXvyvm/0eWPr//lipGZBHUyv7njtLRow25iBP2vjQBvd+3/aNN99uUuXPL7SDp5VXVydRDkqxOomyrFS/kygA3BdXOIA1yl1OJ1FmkBJ3EmVERywl6yQ6p/k6iXtNtbuFD7v09b/+89/703/ZHMDO8i//4nP9f3+s1IzJo6mN+cGBkcYc5Kkb37vNzfdtP/3kDzf/xtpXvvqzJtU+bpd28LTy6uokykEpVidRlpXqdxIFgPviCgewRrnL6STKDFLiTqKrN6YdlpJ1Ep3TfJ3Evaba3cKHPYn5jvnoDw6MNPIIT9340c1+7es/bzf4sU98v/lzs/1mefyJl5pl2h+3zaurkygHpVidRFlWqt9JFADuiyscwBrlLqeTKDNIiTuJ3rjLO25jtpCSdRKd03ydxL2GdtfET12y5k2Z6bC/8tWflY3OcsmIccYc3htvvn3Gxg9v+W9/9Xebbe49l2l/3Davrk6iHJRidRJlWal+J1EAuC+ucABrlLucTqLMICXuJHrjLmy3jV89VeskOo+ZeogH9PfYRJY/jGuZ6UzLH4HdWTJihJHH9vQzr7Vb/tBHv5vQCEc3vjngoXPJuIvldVVIgoNSrE6iLCvV7yQKAPfFFQ5gjXKX00mUGaTEnURvXNtb3CyJjjZ+lVStk+g8zjiRC20KuFmSWIeZznenv7lZPv3kDzNihJHHtmmq/tk3/yahcQ5v/8DP8rZLxhW+8tWffewT33/2udfz9zh5XXUS5ZjUq5Moy0r1O4kCwH1xhQNYo9zldBJlBilxJ9HbVzYZ28c7S5vqO5DqS9U6ic7jpAMbaVONvUsGrdiERfja13/++BMv7TQ3N8unn/zhgwfvZOgIIw9ss/38fYoDu2iOdrPlvUvGdTa/onDqLyfkddVJlGNSr06iLCvV7yQKAPfFFQ5gjXKX00mUGaTEhSRu3+HOY5sdWjLomJSsk+g8xh/VYSNPc6rd3bRJivCtb/+i367d6Xtm6GgjD+zs7TcO7OLlV97abHnvknGd8lcUEhonr6tOohyUYhWSYFmpfidRALgvrnAAa5S7nE6izCNV7iR6F05tum3GNw/2Lm12IyUrJDGD/t5HKo9//EbGj7xjlxfha1//+fs+8MKmZdku7fdqN38+9fSrGT3O0FH97a/+7gtf/Mne7/NmxIkOnH5zzDu7KJcM6pSppiCJPmxnf+wT3//KV3+Wv3vyouokykEpVidRFpcJ6CQKAPfFFQ5gjXKX00mUeaTKnUTvxbRtymZMuTSRVK3TDptDu7uRdg7yDGeveGcuqcMXvviTsl+58xsIm1+GHeq0TrU0+80uTzTy3Hd21yxJPPTGm2+Xqc0vJDTxtgJDv5mQV1QnUY5JvTqJsrhMQCdRALgvrnAAK5UbnU6izCAl7iR6L0Y2ns7rzTVrNUsK91ASMzh6hO3BtEtC57p8C3fjvFL0fxKh/Dpt+5XY/jdw51h2OsWnGnP6O3tsliQeevqZ1/Zmy3jzZ/ut2/J7uHlFdRLlmNSrkyjLSvU7iQLA3XGRA1ip3Ot0EmUGKXEn0Xsxput0SY+yqViz+tCSQVPY2Vq5l3ZJYgrTbu2mnVeK8ldcl1wef+Klsu95uTGnv3MMzZLEQ/1S9OObP8tv3bZvRxuJckzq1UmUZaX6nUQB4O64yAGsVO51Ookyg5S4k+gdOdp4uqRHmaoVknio2XK5JHqWdvVJNnXU3Nu/LWdUY/PTB2OW8Z3Wq8zL0Z32TzaJh3ZSzdKPl3+22byWCm18Y/Nd5sn71Lcu9eokyrJS/U6iAHB3XOQAVir3Op1EmUeq3En0XhzuOl3eCEvVOonu0+xrZ0lihFPHX2KxHd2EM6rx7HOvb7qQe5fzWo3XmpfD++2fbBK9H7RtlzZVRr7y1Z9tHrfZvJY6bbBUflF36FdxVyj16iTK4jIBnUQB4O64yAGsVO51Ookyj1S5k+gdGeo6TdIFS9UKSYzQHMBmSWifowOmteS+bkINBbnuMYzZ+6aLmr+LH6790Ee/u5Pd/NksOz+VkFdRoV1lY+dfeGvXopF6dRJlcZmATqIAcHdc5ABWKvc6nUSZR6rcSfSODLWcpmqEpXCdRE/UHMxmSagz1XGOtPDu6ldDQa5+DEcPYKeF+sabb29+OeHPvvk3ZXbvN3DbpcnmVdR5uLH39Du25T/ytnIpWSdRFpcJ6CQKAHfHRQ5gpXKv00mUeaTKnUTvS7/lNGEXLIXrJHqB5tjKw5vwUMdYeHc34bo1qWFGjh7Dpova/ll+zXYnu0n1lyabV1Hn3W11+h3bZkkO181qZAI6iQLA3XGRA1ip3Ot0EmUeqXIhiTvySO8brBM2wlK1QhKXaY95wuMcaeE9XuUcT9Ue5KlLVr7MVNu53OEjKbuoO1+z3cmWv4ews+T1U3h30w/t7dg2S9K4blYjE9BJFADujoscwHrldqeTKPNIlTuJ3pey5TR5IyyF6yQ6keZo+0tyU5tvy0NmPZ3rak9tzJIV9jmcXdiBgym7qDtfsy2z5T871l/y+um06zbKjm35C7mffvKHGbF6KVknURaXCegkCgD3yHUOYL1yx9NJlHmkyp1E70vZb5q8EZbCFZKYx3yNvOVbhO0em/+2Sxtcm83pb5ZNvH1Qj6FD2jRSm8eb79K2X7Mtswe+ZtssefF0mhX/9ld/V/6cwsc/9fJTT7/aPv7QR7/74ME77fZJyTqJsrhMQCdRALhHrnMA65U7nk6izCNV7iR6d2bthaV2nURn0Bz8fL28+ba8V393Cx9AtdpZLpckKrD3YDZ91Z3HrU3k8JIXz0P/wX/4nz/+xEtl9uOfevn1nz7Y+eEFWqlaJ1EWlwnoJAoA98h1DmC9csfTSZR5pMqFJO5L22yaqf+VwhWSmEjbuZvp4Dfm3v6Ovbtb+BiqtVOH5s9ySfQa9u5900t98qkftQ+aJble0/bTT/5wM/7jn3p5E29fOH//3/+n//Hv/OtNsF2aYQ8evNP/4QVabek2EmVxmYBOogBwj1znANYrdzydRJlNCt1J9O7M1/BK4QpJnK49yJ0luZkttqPW3t0tfAzVOlyHJtsu+XtZ/f1++skfbhqs7VL+4OxOatN+/eRnftA83sTbF84//U//m02kWR5/4qWvff3n7Xb6P7xAo63bRqJcQ+agkygA3CPXOYD1yh1PJ1Fmk0J3Er07sza5UrtCEvtsmm79JSOuYeG9D+3u6nW4uvGn39Zq4Yr19/XyK29t2qzN0n4xNrle0zbRzia+8wXbTz/5w3IjL7z4yzb++BMvJcRDebvpJMo1ZA46iQLAPXKdA1i13PR0EmUeqXIn0fuyQG8r5eskWljgGC6x5IEd3Ve1VVrAeeferLVZEppNfxebXzxolrLZ2ihTzZJop0xtlvKLuq3NDy888/kfJ8RDebvpJMriMgGFJADgHrnOAaxabno6iTKPVLmQxB1p20yz9rNSu0ITbJto7dIOq9PChzdmd5VXbCaTnHWzkXbJ31Prb/nZ515vm6pPPf1qQp1Nqp9tXiP/s//sm5tsu+x8x7bxhS/+ZJP9zvd+lSjreOu+FZmATqIAcKdc6gBWLfc9nUSZTQrdSfRelD2mMZ2stuE1yZItVm/hQx25uxsq4FSmPeVma+2Sv6czyTabt5r/wSP/q01Dtt/wbZQd249/6uVEeah9u95IlGvIHHQSBYA75VIHsGq57+kkymxS6E6i92KnwdT+2Taz9i7tsDOkfIUkqnfJWZ/qpH0teWBXN9/JNluefOMXbjCvkEISha989Wdlx3bnG7ikcJ1EuYbMQSdRALhTLnUAq5b7nk6izCaFLiRxF9qO1c6S3NRSvk6i1ZuvIH0n7WvJA7u6uU+22f60u7hka3mFdBItPHjwzvs+8IKO7ZAUrpAE15A56CQKAHfKpQ5g7XLr00mU2aTQnUTvV9vAmraH1Uj5CknUao4iHHbq7hY+vGtZ7DTbGZ9kd2dvJK+NQhKFr339523H9vEnXtKx7UvhOolyDZmDQhIAcKdc6gDWLrc+nUSZTQrdSfTezdEpSwULSVRpwhbeGOftaLHDu6Llz3GSeT9jC3lVFJLY9od/9L22afvsc68nRCG16yTKNWQOOokCwP1ytQNYu9z9dBJlNil0IYl7N3mzLOUrJFGlTeeufbD5cyZnb3zWo7q6K57d5TN+6up5VRSSKLz8ylttx/bRx55/4823E6WTwhWS4BoyB51EAeB+udoBrF3ufjqJMqfUupPovZujX5YKFpKoz96e3d7gJC7Z7HxHdXVXP6+2tmcfxvgV83ooJLHt6Wdea5u2n/zMDxKikNp1EuVKMg2dRAHgfrnaAaxd7n46iTKn1LqT6ArM0TJLEQtJVOZAq65NHRhwhss3NeHB1KOekzpvukeukldCIYltb7z59qOPPd82bb/17V8kSiHl6yTKlWQaOokCwP1ytQPAjdDSUuhCEiswR9csRSwkUZORTbqp6jPJduaYrCuq8HSaQzr1qI6Oz2tgW3LbPvmZH7Qd2w999LsJUUjtCklwDZmDTqIAcNdc8ABwL3QFqXUn0XU4o1F1WIpYSKIm7SmPOfHL6zNheS8/mHpUeyJtkftL0j0HUo28BgpJbPvWt3/Rdmyb5Tvf+1WiFFK+TqJcSaahkygA3DUXPADcC11Bat1JdDUOd53OkDoWkqhGe8rjT7wZ2S75+xTnrXXA5Btc3i2eQvsEaJeEHjpwLnn2F5LY9uDBO7//B3/ZdmyffOpHibItFewkypVkGjqJAsBdc8ED4AYaXvcnhS4ksRoHGk/nSR0LSVSgPNlTT7wZf8YqeTSdOba5pDs4/s3S/tnGS3neF5Loefa519uO7fs+8MIbb76dKIVUsJAE15A5KCQBAHfNBQ+Ad+U2qJMoc0qtO4muxt6u0yVSx23JXVt5suedeLNWu+Tvg87bxVEzbXYBt3vke7XPhJ2TyjN+W3LbHjx4530feKFt2n7pyz9NlG2pYCdRriTT0EkUAO6dax4A78qdUCdR5pRaF5JYjclbaanjtuSuaudMLznxfreub/LCbozZe4Vu8ZjH2JxXnuvb2lTf177+87Zj+/gTLyXEtlSwkARXkmnoJAoA9841D4B35U6okygzS7k7ia7GHK20lHJbctezc6aXn3izhQMbmaOwpbm3P63bOtqTbJ4GeaIX2gF7/eEffa9t2j773OsJsS1F7CTK9WQmOokCwL1zzQMgcjPUSZQ5pdadRNdkjoZaqllI4kr65zjVWW96dqU5Stq3zF4mcUOHep48ywtJ7PPyK2+1HdtHH3ver9kOSR07iXIlmYZOogCwAi57AETuhzqJMqfUupDEmszRU0s1C0lcw94TnPCsm02VW5ujnnvt7LdO9R/hhfL8LiQx4OlnXmubtp/8zA8SYlvqWEiCK8k0dBIFgBVw2QMgcj/USZSZpdydRNdkprZaClpIYnF7T3Dys95scOE25cK7O1Xlh3ehPLO3JbfPG2++/ehjz7dN2299+xeJsi117CTK9WQmOokCwAq47AEQuR8qJMGcUutCEmsyR2ct1dyW3LKGzm7ys243uHybcvk9jlTtgU0iz+ltyQ345Gd+0HZsP/TR7ybEttSxkARXkmkoJAEAK+CyB8B7ckvUSZSZpdydRFdmjv5aCrotuaUcPq/Jz7rZ4FU6lVfZ6VF1HtUk8mzeltyAb337F23Htlm+871fJcq2lLKTKNeTmegkCgDr4MoHwHtyV9RJlJml3IUkVmaOhmMKui25RRw+o8nPt93g5Jsd4yo7PaC245lQnsfbkhvw4ME7v/8Hf9l2bJ986keJsi2lLCTB9WQmOokCwDq48gHwntwVFZJgZil3J9FVmrzXlppuS25+R09n2vPdbK15MHklj1p+jwdUdTATyjN4W3LDnn3u9bZj+74PvPDGm28nyrZUs5Mo15OZKCQBAOvgygfAltwYdRJlZil3IYn1maPXlppuS25mR09n2vPd2Vrz5xz1PGDh3Q2p5DAml+futuSGPXjwzvs+8ELbtP3Sl3+aKNtSzUISXE9mopMoAKyGix8AW3Jv1EmU+aXinURXaY6OW8q6Lbk5jTmXCc9376aa4BwlHbLkvobUcAyTy7N2W3IHfe3rP287to8/8VJC9KSgnURHaMrbFLatcFvkJpIcl8lkdBIFgNVw8QNgV26POokys5S7kMQqzdF0S1l7kp7ByLOY6mQPb6fJzlHVvRbb0V7X3fsc8kztSfqYP/yj77X9xGefez0htqWghSQG/O2v/u4LX/xJ2astl0cfez7juEBmopMoAKyJ6x8Au3KH1EmU+aXinURXaaa+Wyrbk/TUxp/FJOc7ZiOLNTQX21HfFXc9hzxHe5I+5uVX3tp0Ev2a7ZDUtJNooSnj08+8NtSl7S9ZjQtkMjqJAsCauP4BsCt3SIUkmFnKXUhilR6Z55uhqWxP0pMaf/yTnOnIjcxR1b0W21HpKjudT56dPUmP8PQzr7VtxE9+5gcJsS01LSTxm9+8/tMHz3z+x0d7tZ9+8ocPHrzz/g++uIlkfc6VmSgkAQBr4voHwB65SeokyvxS8U6iKzZHDy7F7Ul6Oicd/IVneuq+5ihs3zJ7KS2/x/nkedmT9DibTuK3vv2LhNiWsnba4J/86Rsf/9TLmyZsf+n/du0m9dTTrybEuTIZnUQBYGVcAgHYI/dJnUSZXypeSGKt5msvpr7bkpvIqUd+yZmese58tS0tsIvSwrubT56RPUmP88abb7dtxPd94IWE2Jay/r2/9+/8u//Rv//f+5//1j/4F5/8zA/K78y2SxN56ulXX3jxl1ltn83g/M0FMiudRAFgZVwCAdgj90mFJJhfKt5JdMXma8OlxD1JX+aMwz77TC8pUbNuu+TvGcy68R1L7msmeRb2JH2KP/vm37RtxI994vsJrd7Lr7z1wou//NrXf/6FL/7k6Wde+8f/5Jnf/md/vOm39pdPP/nDkV9S3qySvzlXnvGFJABgZVwCAdgvt0qdRJlfKl5IYq1mbcOlxD1JX+C8w15yrR3NRuYr9XxbLi2zl1nl+deT9Imefe71to349DOvJbQyb7z59p/86RtPPf3qxz7x/U1Tdczy/g+++Mznf/z6Tx9kQ8dsvtTcLAlxrjzpO4kCwPq4CgKwX+6WCkkwv1S8kMQqzd2JS4l7kj7X2Yd96orT1me+as89j40FdjGrPPN6kj7dJz/zg7aN+Gff/JuEVuD1nz742td//tTTr/7+H/zlppF6dPntf/bHTbm+8MWfNLV6+ZW3sq3RNv/g24c++t2EOEue9IUkAGB9XAUBGJQbpk6izC8VLySxVnM341LlfTLidJcc80nrTl6c+ao96zzOuvG55dm2T0acZfPbrOO/MXqj/vZXf/cnf/rGk0/96PEnXmpPeWj52Ce+3yxPP/Pab/2Df/Ef/If/+b/393/73/l3/6MJS72q/vgc2rnYSBQAVsmFEIBBuWfqJMoiUvRCEqu0TD8uhe5J+kSXHPNJ685RnGabM9V81i3n0a3J86wn6XO98OIv2zbi40+8lNDdac7xmc//+EMf/W57pv3l0cee/+RnfvClL/9058uzKXEhiXNt9pi/OVfmo5MoAKySCyEAg3LPVEiC+aXihSRWabF+XGq9T0aMduExj199vuI0W26X/D2dyTc7x0EuIM+tfTLiAk89/WrbRnzm8z9O6C68+le//tKXf/rxT7386GPPb1ql5dLEm+yzz73+ne/9Kuv0pMqFJM7y8itvbfaeEGfJZBSSAIBVciEE4JDcNnUSZREpeiGJVVqsK5da75MR41x+wCO3sEBlml3MsZcJt7lAESaXZ9U+GXGZzf9h/0Dv8oa8/tMHz3z+x5uT6i8f+uh3mwFjTjZVLiRxlgcP3tl81fdjn/h+opwl89FJFADWyrUQgENy51RIgkWk6IUk1mfhrlzKvU9GHDTV0Y7ZzmKVmWNHk2xzsQpMJc+kfTLiYvf02wh/8qdvfPxTL7ens7M0Z/fkUz9qBvztr/4uo49JoQtJnOsLX/xJezCPPvb8q3/160Q5XeajkAQArJVrIQBH5OapkyiLSNELSazP8o25VHxABg2Y6miPbmfhsjS7m3aPk2xt4SJcIs+eARk0hTv4bYShr9a2v37wpS//9LwOaWpdSOJcmyN89rnXE+IsmY9OogCwYi6HAByR+6dCEiwiRS8ksTLXasyl6PtkxD4THu3hTV2lLM1OFzvBo65SgfPkebNPRkzkjTff3vze6y3+NsLQV2ubYJPKoLOk3IUkzrWGf+1tGZmPQhIAsGIuhwAcl1uoTqIsJXUvJLEy12rPpegDMmjbYj3Na9Vk2v02Wzt7g9eqwEnyXBmQQdN5+pnX2k7ihz763YSq9/Irb33lqz/79JM/7H+1tok88/kfv/7TBxl6rpS7kMQF7vVfe1tepqSTKACsmysiAMflLqqQBItI0QtJrMx123Mp/YAM6kze08yjnivWpNn15Kd56gavePoj5fkxIIOmtul7/tk3/yah+jx48M4LL/7yC1/8ycc/9fLme8E7y+VfrS2l6IUkznXr32iuR+ajkAQArJsrIgCj5EaqkyhLSd0LSaxJDR26VH9ABk19qAe2tkxNmr30l+SmdtKW5zuMy+U5MSCD5rFpeubvarzx5tt/8qdvPP3Ma3/4R9/bHGR/meqrtaXUvZDEBW7xG811ypR0EgWA1XNRBGCU3EsVkmApqXshidWopEOX6g9rxkx+qEMbnKkmzWbLJdGljNzp8gc2Up4HwzJuHl/56s823c+Erur1nz742td//uRTP3r8iZc2B9Zf3v/BFz/5mR88+9zrc3xlNXXfltwFbuIbzfXLfBSSAIDVc1EEYKzcTnUSZSmpeyGJNamnT5c5GDD5ce7d4BzVaLZZSZGPHkklx1nK9A/LuDltOomffvKHCS1uZKP29//gL596+tVm5Kt/9eusOY9Uv5DEBV5+5a32LN73gRcS4iyZkk6iAEBzlcz/AsAxuaMqJMFSUvdCEqtRW58u09DTHGf7IOOm0D/3CavRbKpd8nc1hg6ptkNtp/uAjJtZ+TXbBw/eSXQRIxu1H/vE95/5/I+/9e1f/O2v/i5rziwTUEjiMptSf/IzP0iI02VKCkkAAM2FMv8LACPkpqqTKAtK6QtJrEaFjcXMRKE5yDx6KOMu0z/xC0vRrL5ZEqrS3sOr55gzx8MybhFLfs22/ZfEnn3u9WZfBxq1jz72/Mc/9fJMv3twVOagkMTFnnzqR+0JfunLP02I02VWOokCAA+5NAJwgtxXFZJgKan7tuTWodoOYybjoeYg86iQcRcoz318HZqRe5ekq9c/1EoOPvN6UIYu4gtf/MmmVTrH12zLLu3v/8FfbvbVX67bqC1lGgpJXGzTH3/5lbcS4kSZkkISAMBDLo0AnCa3Vp1EWVBKX0hiHSrvNrYz0hxk+2CvDD1dee5H69AMaJf8fcs251LJGWUiD8rQpZQ/jHDq12zH/LLBo489vxPZWepp1G5kJgpJXOyFF3/ZnnVTsYQ4XWalkygA0HF1BOA0ubsqJMGCUvpCEitQQ8/usGY6moNs5+WAjD7R5vT31qEJbpaEmE5m7piMXtC3vv2L933ghbaN+PFPvXz0a7Yjf9ng6PKHf/S9p55+9Stf/Vk9jdqNTEYhiSk0Z91W4JnP/zghTpRZKSQBAHRcHQE4WW6wCkmwoJS+kMS9u4l2ZHOQmZVjssJom9Mv69A8bpf8zdQyW8dk9LLKjm2ztB3bA1+ePfqd2QNLzV3aUuZjW3JT2Pw2QuV1qFampJAEAFBwgQTgZLnHKiTBglL6bcndu/q7k+URZm6OyehjNv3ZdhebB8whc3NMRl/JpoHYLI8+9vwZ35yt8JcNLpFZ2ZbcFPw2wuUyK4UkAICCCyQA58htViEJFpTSF5K4d/W3KftHmBkaISsco107n8zECFnher729Z9veq8nLbfyndkzZG4KSUzEbyNcKLNSSAIA2OYaCcA5cqdVSIJlpfqFJO5d5f3KA4eXeRohK/Ro184kdR8n61xV+Y+P7Sx39uXZ8TI9hSQm8sabb29+X8JvI5wnE1NIAgDY5hoJwJlys1VIgmWl+oUk7trtNm1bmapxso527TxS5XGyTh1+/w/+ctOlbZb3f/DFp55+9YUXf5n0+mSSCklM5+lnXmur/aGPfjchTpGJKSQBAPS4TAJwvtxyFZJgQSn9tuTuWs3ty5HHltkaQbt2cqnsaFmtJpv/n36zNI8TXavM07bkprP5BeE/++bfJMRomZVCEgDAPq6UAJwvd12FJFhWqr8tuft1B03bjczZPm27Nn8UsianSO1OkTWpW2ZrW3LTefmVt9qO7fs+8EJCnCITU0gCANjHlRKAi+TGq5AEy0r1tyV3p+6pabuRmXtoqF3bl5XZJzU6UVbmFmTOtiU3qc2PCH/yMz9IiNEyMYUkAIABLpYAXCq3X51EWVwmoJDEnbrLpm1rfLu2L5tYt9TidFmfm5LJKyQxtSef+lHbtP3Sl3+aEKNlbgpJAAADXCwBuFRuvwpJsLhMQKFt/7VLBt2Rak/qvAPbO1OZyAtkQ/cr53mBbIgblCksJDGDzQ/avvzKWwkxTuamkAQAMMz1EoAJ5CaskASLywR0yg7gpie40xa8XdWeyEkHNn5SMqmXybZuWc7kMtkWtyxzWUhiBi+8+Mu2Y/v4Ey8lxDiZm0ISAMBBLpkATCD3YYUkWFwmoPPIw/+XfXKF8Y3CmlV7/GMO7MIpaOd3QtluTXJk08l2uQuZ1G3JzeCpp19tm7bPfP7HCTFO5qaQBABwkEsmANPIrVghCRaXCXjoke6nUZPruaRveHXVHnn/wNo6l0sSU2ineFbZ0wyyg9lkN9yXzO625Oax+W2E73zvVwkxQuamkAQAcIyrJgCTyQ1ZIQkWlwkomraN5PaZo5O4jDqPeeeolqxtJnvdUgvuVKZ5W3Lz8NsI58ncFJIAAEZw4QRgMrknKyTBNbRT8EjRtG0kN6xtLy7ZZLxQncdZlrFdklhcJv7e5WxZgUz5tuRm47cRzpPpKSQBAIzgwgnAlHJbVkiCa2jq/8h207aR3AjX7TaOVP8R1ibPg1uWM2F98gzYltyc/DbCGTI9hSQAgHFcOwGYWG7OCklwDf2mbSO5cdrWbbskVJM6j+oW5clRmRwcXK9j67cRzpDpKSQBAIzm8gnAxHJ/ti05FvfIvqZtI+kTbbq3VbVKqzqYu5QnzTyyDzgoT5dtyc3MbyOcITNUSAIAGM3lE4Dp5RatkASLaxuamYZt7YCzbbq3V++ZXv0AgFnlPWtbcjN74823H33s+bZp67cRRsoMFZIAAE7hCgrALHKjVkiCZW0ampmGbW3qcldv3erbwr3Ku9W25Ob3yc/8oO3Yfuij302IgzJDhSQAgBO5iAIwl9yuFZJgWcv0bRtXbN1q2sJdyvvUtuTm961v/6Lt2Pqa7UiZoUISAMDpXEcBmEvu2ApJsKyyoZmZ2JbcRNrW7fJdVH1buDN5h9qW3PwePHjn9//gL9uO7ZNP/ShRDsokFZIAAE7nOgrAjHLTVkiCBe10MzMT25Kb1KZ7u1g7dbEdAXPLe9O25Bbx7HOvtx3b933ghTfefDtRhmWSCkkAAGdxKQVgXrl1KyTBUvqtzMzEtuTmsUz3VtMW7kPelbYlt4gHD9553wdeaJu2X/ryTxNlWCapkAQAcC5XUwDmlbu3bcmxiL2tzMzEtuTmNHfrVt8Wbl3ej7Ylt5Svff3nbcf28SdeSohhmaRtyQEA53I1BWB2uYHblhyLqKpv25i1datvC7cr70TbklvQH/7R99qm7bPPvZ4QAzJJ25IDAC7gggrAEnIbV0iCRQz1MTMZ25KbX9u6nbzHqmkLNyrvQduSW9DLr7zVdmwffex5v2Z7VOapkAQAcBnXVAAWkpu5QhIsos6+bWvTvZ2q3zrVdoDF5N1nW3LLevqZ19qm7Sc/84OEGJB5KiQBAFzMZRWA5eSWrpAE8zvQx8xk9CS9rE33drMkcaKzVwQWlnecnqSX9cabbz/62PNt0/Zb3/5FouyTeSokAQBMwZUVgOXkrm5bcszscBMzk9GT9FVturftkugx40cCV5T3mp6kF/fJz/yg7dh+6KPfTYh9Mk/bkgMApuDKCsCicmO3LTnmdLSJmcnoSboa41u3+rZQubzL9CS9uG99+xdtx7ZZvvO9XyVKT+ZpW3IAwERcXAFYWm7vCkkwpzEdzMxHT9I1GdO61bSFmuX9pSfpxT148M7jT7zUdmyffOpHibJPpqqQBAAwHddXAK4gN3mFJJjN+A5mpmRbcpU52rrVt4U65Z1lW3JX8oUv/qTt2L7vAy+88ebbidKT2SokAQBMyiUWgOvIrV4hCWZzYd+2kXRl2tZtuyTUGX/KwDLybtKT9JW8/Mpbm39/7Etf/mmi9GS2CkkAAFNzlQXgOnK3ty055nFSBzNT0pN0rTbd283JnnTWwKzyPtKT9JU8ePDOhz763bZj+4d/9L1E6clsbUsOAJiaqywAV5Mbvm3JMYNT25eZkp6k67Zp3bZLosD15B2kJ+nr2fwwwqOPPf/qX/06UbZltrYlBwDMwIUWgGvKbd+25JjaGb3LTMk+GXELNG3huvKusU9GXNX7P/hi27R99rnXE2JbZmtbcgDAPFxrAbiy3PxtS45Jnd27zKz0JA0wLO8XPUlf28uvvNV2bN/3gRcSYlsmbFtyAMBsXG4BuL7cAm5Ljulc8oXTzEpP0gD75J2iJ+kKfOnLP22btp/8zA8SopAJ25YcADAnV1wAqpAbwW3JMZ05+raNjADo5N1hn4yowyc/84O2afulL/80ITqZsG3JAQAzc9EFoBa5HdyWHBO5/NddMzE9SQPczhvFG2++/ehjz7dN25dfeStROpm2QhIAwPxcdwGoSG4KC0kwkUn+Sa7MzT4ZAaxY3g56kq7J08+81nZsP/TR7yZEJ9NWSAIAWIRLLwB1ya1hIQmmMEnTtpG52ScjgPXJu8A+GVGZ93/wxbZp+2ff/JuEeCjTVkgCAFiKqy8A1ckNYiEJLjZV07aV6elJGliTvP57kq7PCy/+su3YPv7ESwnxUGZuW3IAwFJcfQGoTm4QtyXHZaZt2jYyPftkBHDv8prfJyOq9NTTr7ZN22c+/+OEcAkGgGq4AANQo9wmbkuOC0zetG1lhnqSBu5XXu37ZESVyn+C7Dvf+1Wiq5eZ25YcALAs12AAKpWbxW3Jca6ZmraNzNA+GQHcl7zC98mIivknyPoyeduSAwAW5zIMQL1yy7gtOc4yX9O2kRkakEHAXcgLe5+MqFj5NVv/BFkrk7ctOQDgGlyJAahabhy3JcfpZm3atjJJ+2QEcMvyet4nI6rna7Y7Mn/bkgMArsTFGIDa5fZxW3Kc7rp920YGAbcmr+EBGXQL3v/BF33NdiPzty05AOB6XI8BuAG5iexJmlMs0LRtZZL2yQjgduTVu09G3I62Y9ss+XvFMoXbkgMArsolGYDbkFvJnqQZbbGmbSOTNCCDgLrlFTsgg27HV776M03bVqZwW3IAwLW5KgNwM3JD2ZM04yzZtG1lngZkEFCfvEoHZNCt2fw2wqef/GFC65Mp7EkaAKiACzMANyZ3ltuSY4Tlm7atTNWADALqkFfmgAy6Nd/69i8ef+KlzddsHzx4J4mVySz2JA0A1MG1GYDbk/vLbclxzLWato1M1bCMA64qL8gBGXSDNt+xbZbVfs02s9iTNABQDZdnAG5S7jK3JccxV+zbNjJbAzIIuIa8Dgdk0G0qf8r200/+cJ1fs81E9iQNANTEFRqAW5V7zW3JcdB1m7atTNiADAKWktfegAy6ZX7KNnO5LTkAoD6u0wDcsNx0bkuOYTU0bVuZswEZBMwpr7cBGXT7Nl+z9R3bjeQAgCq5VANw23LruS05BtTTtG1kzoZlHDC1vMaGZdxd2DRtH3/ipa99/eeJrkOmc1tyAECtXK0BuHm5Ae1Juj6PfOX3NktCy6qqadvKnA3LOGAKeV0Ny7g78uhjz2/6tre+PP7ESx/7xPeHlqefee0LX/zJn33zb1548Zd/+6u/y4xuS1EAgIq5YANwD3Ib2pN0Zcqe6bVatxX2bRuZtmEZB1wgL6cBGXR3nn3u9Z3W53qW3/5nf/yP/8kz/8N/9F/81j/4F//93/rgCy/+slnW+TMRAHBD3PwAcCfSb+hJuib9hmnbul2ykVpn07aVmRuWccCJ8hIakEF3bc2t273L7//BX376yR9+5as/e/Wvfp0aAQB1cNsDwP1I46En6WocaJhuurcLNFUX2MUlMnnDMg44Jq+ZYRnHjXv1r379wou//MpXf/Zb/+Bf/MN//L//x//kmX/6n/43O13aA8v7P/iiBi4A1MNHNADuTZoQ25Krw8hu6dyt28qbtq3M37CMA/bJ6+SgDOVeZF4L/53/7m/9e3//t//kT9/4whd/8sznf9z+9O1Ox3Znef8HX2zGNIOffe71F1785cuvvJWtAwBL8SkNgDuU+9SepK/tpG7prK3b++jbNjIU6OS1cVCGci8yrz1J7/PyK2996cs//eRnfvC+D7yw07ftL48/8ZKv4gLAYnxWA+A+5Va1J+mrOqNVOlPr9iaatq3M3zEZDSuWF8NBGcodydT2JD3Cy6+89ZWv/uzTT/7w/R98caddO2Z5/ImXvvb1n2dbAMDFfGID4G7lhrUn6es5u1Xatm7bJaHLTLWdxWQKj8loWJM8+4/JaO5LZrcn6dO1P4/77HOvP/3Max/7xPcff+KlnRbt3uXRx57P+gDAxXxuA+Ce5ba1J+krmaRVOkn39uaathuZyIMyFO5dnvEHZSj3KHPck/R0jv6WwlNPv5qhAMDFfIAD4P7l/rUn6cVN2yq9pHt7u03bVibyoAyFe5Rn+UEZyj3KHPckDQDcMld0AFYhN7I9SS9rplbpGd3bW2/atjKXx2Q03IU8rQ/KUO5UprknaQDgxrmoA7AWuZ3tSXpBc7dKN93bozua+0iWlOk8JqPhNuV5fExGc78y0z1JAwC3z3UdgBXJTe0+GbGIJVulR7u399S3bWVGj8louBF54h6Uody7zHdP0gDAXXBpB2B1cnfbk/T8rtInHere3l/TtpVJPSajoVZ5ph6T0dy7zHdP0gDAHXGBB2CNcpvbk/TMrtsn7Xdv77Vv28i8jpAVoA55Xo6QFViBTHlP0gDAfXGNB2ClcrO7T0bMppIm6aZ7e8dN241M7QhZAa4hz8Jxsg4rkCnfJyMAgLvjMg/AquWutyfpeayhSVqnzO44WQfml+fcOFmH1cjE9yQNANwpF3sA1i63v/tkxNQ0ba8uEzxO1oGp5Rk2TtZhZTL9PUkDAPfL9R4Alu7batpWInM8WlaDy+T5NFpWY2Uy/ftkBABw11zyASByN9yT9HQ0bWuTmR4tq8Ep8uwZLauxSnkS9CQNAKyACz8AvCe3xftkxET0beuUyT5F1oR98iw5RdZkrfI82CcjAIB1cO0HgC25Od4nI6agaVu5TPkpsiZ4/nCuPBv2yQgAYDVc/gFgj9wl75MRl9G0vRWZ9RNlZdYkc3+irMzq5QmxT0YAACvjQwAA7Jfb5X0y4gKatjcnc3+6rM89yhyfLuvDQ3la7JMRnO/Xf/yRv/id3/2Lz/55/r5v3/jcuyf7O597M3/fqgtnbV2TDtwxnwMA4JDcN++TEWfRtL1peQacLutzyzKXZ8kmoJNnxj4ZwaU0bW+Rpi3Au3waAIAjcgO9T0acTtP2PuR5cK5sheplws6STUBPniL7ZAQT0LS9RZq2AO/ygQAARsmd9D4ZcQpN2/uTZ8MFsiEqkCm5QDYE++RZsk9GMBlN21ukaQvwLh8LAGCs3FLvkxGjadresTwnLpbNMb9U/GLZHByUp8s+GcGUNG1vkaYtwLt8MgCA0+Teep+MGEHTdiXyzJhCtsgUUtMpZIswQp40+2QE09O0vUWatgDv8vkAAE6Wm+wBGXSQpu0K5fkxnWyXY1Kv6WS7MFqeOgMyiDP9+huf+86Hf/dhs/J3/+LDH3nlG68l8dBg/+7VP//rz37kO+1aD1f8zmf//NfJtf78lYep7/zx1gZ/85vX/vrh7nrx37z52YebGu4VtgfzcMXXmr2/O7i3nV+/+uevfDipd7Mf/txfb5/RxvaJf+7NV/c3bQeParjD++tvPFccw0eaY3jz1d1jGH+cO9qNH6z8nllrI6984+Hj4sQfHtvDEYVy9XcHtztqBn/2uf7gxphDArgCHxEA4Ey5294nI4Zp2pLnygyyg/XJ+c8gO4Cz5Gm0T0ZwvrTn2kbbppFXtEH77b/Ge2vtLh/566Kpt7/d+epz6e59+Lm9Td62sbhXu9/v/PFz7cgsvdbkw6U5nffaiIMN4u3llTSCL2ravtl1k7eXrcqMP84dxWFvrbhTzP6stZFXvpGO+c6yU/Nu9ef2De6f7yZ16JAArsAHBQA4X267B2TQPpq27MiTZn7Z323KOcwv+4PL5Pk0IIO4QPqnZT/xtTc/+5EjTds0K3/33W9Tdiv++htdK7Zs6u1ta3ar78ZzMLs9wVLR63y3//gw9trmGLotf6T8yuqvN8F9PdPv/HG+EPrwu6LZ8s4xnNS07W/53SN898uqxQGMPs6ed1uuu1937Zrgh2etLN17X4N9NY3yobMoB7/3ldutUow9JIAr8FkBAC6V++8BGbRN05bD8uy5qhzKIrLL68lxwETyxBqQQVysbRQe/EZkr/3XfVWz38Tc06rb8+XZ8iuuZbzfZ+zbNBP3dQPH/+rC0Cl08fObtkO/CFEaf5xj9VfsF3NTup2fv9jM2p656A1OfMRXaM8+F4Ap+cQAANPIvfg+GVHQtOVUeTIxhdQU5pHn2T4ZwUTea9gNNhl3239ZZe8XQvc0Q9vmXdGgbMd85JXdpl7WPfDbCI1+L/I9ObCtfmvs9KYPnMKePuwpTdtDxemMP87R+mUZE+nsmbXBwfvqs9ehmQJYjM8NADCZ3JQPyKCHNG25XJ5YHJN6wfzynBuQQUzpvR9gffhPkPXbhbvdt4Ntuwwu2447jci2Zdn8udugbL+jevjHAQ62AnNg757Iu7+sWi5tfHPMB05hX+qEpu2BLW+MP85hv/7Gc3/92c/trlgcYb9QB0o35ou6MdxxPnpIAFfgowMATCx35wMyCGaTp9r65PzhGvIsHJBBzOK93yp9d/lI8WOs79rp3+XPgcZismXTdufLpw9blg+/eLvdpW1bmeWK+xzoPL7XDB1aNhs/0FrdlxrftN1z+n3jj3Ov1HPfUhxhv1AHSndp03bcIQFcgQ8QADCL3KkPyCBYXJ6CtynnADXJs3NABjG7X7/65698+GGrbrvXttu/O9Dx3Azeajtu/YRr2x9sfwOhfVzG+z/zuuNA5/HwgW05MHJfanzTdtQxjD/OPbp/N+zDn3vz1fdq1S/LmMjGZU3bsYcEcAU+RgDAXHLLPizjoEp5ms4v+4MblCfxgAxiOfnVgqIrt9t9y4C9v2Ow59dRG8UW2gZft/F2U+/G80O3h38boXGoFbjzld4DDozc11E9vWl78BjGH2ffvsNr9MsyJtLZ6qq3Bgf3m7ajDwngCnySAIB55d59QAYBcFPyJj4gg1je7m/L9rpv3TcrBzt6vX9MbNPpax/sbqqLH/tthMbBVmAO7OjXdYdP4c9faZvO2y3I7HS3L9l1qLfiQ8fQDN6UdPxx9rQd0l6h8sPExen0C9WdxUd2Zydd161ZG6zzUNN2xCEBXIHPEwCwhNzHD8ggAKqXN+4BGcQSfv3HH/nOZ597s/jKZ79BOdz++93vfPa9X79974dx9/Re09985WEjr2gObsXHNDEHm4kPdQf27r+ollDr1T//689uNSvfO4Vup7/+RjrOD5ft/mzXjG72255aM7hr7+4Oztdy391yV5x3f3eiifT64COOc1d3JMWKr733T8n152jfrDXL5tjeO+vtWeuvHv2m7ehDArgCnyoAYDm5px+QQQBUKW/WwzKOhRSNvHf/xf/u8dEvXW6+ZNpbPrzd7uyUOyp/FmAoPmSwmdh5r134O7/bnNHQSRVfqi2Xj7zyje7LvxkWm1bs1uA/bvvUO4P3F+c728c8+jh3FUfSrJXH726heVDsol+oLvK5vSe+U/zBOvebtqMPCeAKfLAAgEXlzn5YxgFQjbxBD8s4lvbwS6NlA/Fz5RdvG0P9u96K735vtPcd287my6o738Mdig842rRt7BzYX3y4/Tbx9nda3/XuF0Kz9+b4843j/U3bdwenRVsM3tfBfOjh4E1v9MOf++udb9Q+NPo4d2wdSTbeHsmeFu3eSHniu1+1bp3UtB15SABX4OMFAFxB7vKHZRwAV5U35WEZB8xoTL8b4N74kAEAV5M7/mEZB8Di8kY8LOOA2WnaAmvkowYAXFnu/odlHACLyJvvsIwDFqJpC6yRDxwAUIV0AoZlHACzyRvusIwDFqVpC6yRjx0AUJF0BYZlHACTypvsQRkKLE3TFlgjnzwAoDppDwzLOAAuljfWgzIUAGApPn8AQKXSKhiWcQCcJW+mB2UoAMCyfAoBgKqlbTAs4wAYLW+gB2UoAMA1+CwCADcgLYRhGQfAQXnTHJZxAABX5UMJANyMdBSGZRwAPXmjHJZxAAAV8NEEAG5MugsHZSgA2rUAwA3yAQUAblI6DQdlKMAq5a3woAwFAKiMjykAcMPSdTgoQwFWI29/B2UoAECVfFgBgJuXDsRBGQpw1/KWd1CGAgBUzEcWALgT6UYck9EAdyRvcMdkNABA9XxwAYC7ks7EMRkNcOPypnZMRgMA3AgfXwDgPqVRcUxGA9yUvIUdk9EAALfG5xgAuGfpWxyT0QDVy9vWMRkNAHCbfJoBgPuXHsYIWQGgPnmfOiajAQBumc80ALAiaWkck9EAFcgb0zEZDQBwF3y4AYDVSYdjhKwAsLi8DY2QFQAA7oiPOACwXml4HJPRAIvIW88xGQ0AcI981gGAtUv/Y4SsADCDvNGMkBUAAO6XTzwAQKQdMkJWALhY3lbGyToAAPfO5x4AYEtaI+NkHYAT5U1knKwDALAaPgABAPulWTJO1gE4Ju8aI2QFAID18UkIADgkvZPRshrAtrxHjJN1AADWyuchAGCUtFJGy2rAiuXtYLSsBgCwej4YAQCnSXNltKwGrEZe/KNlNQAAOj4hAQBnSrtltKwG3Km81EfLagAA9PioBABcKg2Y0bIacBfywh4tqwEAMMxnJgBgMmnJjJbVgBuUl/FoWQ0AgBF8eAIAppcmzSmyJlCxvFxPkTUBADiFT1EAwIzStjlF1gSqkRfnKbImAABn8XEKAFhCGjknysrA4vIiPFFWBgDgMj5XAQCLSmvnRFkZmFlecifKygAATMQHLADgatLvOVFWBiaSl9bpsj4AAFPzSQsAuL50gE6X9YET5SV0uqwPAMCcfOoCAOqSztDpsj4wIC+V02V9AACW4hMYAFCptIvOla3AuuX1cJZsAgCAxfkoBgDcgPSQzpWtwArkSX+ubAUAgKvysQwAuDHpLV0gG4K7kKf1BbIhAACq4SMaAHDD0nO6QDYENyVP3wtkQwAAVMnHNQDgTqQXdZlsCyqTJ+hlsi0AAKrnoxsAcIfSo5pCtggLypNvCtkiAAA3xcc4AODOpXc1kWwUJpWn10SyUQAAbpaPdADAuqStNZ1sF0bLU2c62S4AAPfCJzwAYNXS9JpUNg3zPMEa2ToAAHfKBz4AgPekJTaD7ID7lZmeTXYDAMAK+PAHADAo3bLZZDfcmszfnLInAABWycdBAIATpKM2v+yP68lMLCK7BACAh3xABAA4X1pui8vuuUyqubjsHgAABvjICAAwsXTmri1Hs1apQgVyQAAAMJoPkQAAS0gD7xbkiKuRw7oFOWIAALiMT5YAAFeTVh+3JvMHAADz8IkTAKBG6Q5yPZkJAABYnA+jAAC3J21FLpNqAgBAZXxUBQC4W+lNrlJKAAAAN8jHWQAAdqXxWYEcEAAArInPwQAAAAAAFdG0BQAAAACoiKYtAAAAAEBFNG0BAAAAACqiaQsAAAAAUBFNWwAAAACAimjaAgAAAABURNMWAAAAAKAimrYAAAAAABXRtAUAAAAAqIimLQAAAABARTRtAQAAAAAqomkLAAAAAFARTVsAAAAAgIpo2gIAAAAAVETTFgAAAACgIpq2AAAAAAAV0bQFAAAAAKiIpi0AAAAAQEU0bQEAAAAAKqJpCwAAAABQEU1bAAAAAICKaNoCAAAAAFRE0xYAAAAAoCKatgAAAAAAFdG0BQAAAACoiKYtAAAAAEBFNG0BAAAAACqiaQsAAAAAUBFNWwAAAACAimjaAgAAAABURNMWAAAAAKAimrYAAAAAABXRtAUAAAAAqIimLQAAAABARTRtAQAAAAAqomkLAAAAAFARTVsAAAAAgIpo2gIAAAAAVETTFgAAAACgIpq2AAAAAAAV0bQFAAAAAKiIpi0AAAAAQEU0bQEAAAAAKqJpCwAAAABQEU1bAAAAAICKaNoCAAAAAFRE0xYAAAAAoCKatgAAAAAAFdG0BQAAAACoiKYtAAAAAEBFNG0BAAAAACqiaQsAAAAAUBFNWwAAAACAimjaAgAAAABURNMWAAAAAKAimrYAAAAAABXRtAUAAAAAqIimLQAAAABARTRtAQAAAAAqomkLAAAAAFARTVsAAAAAgIpo2gIAAAAAVETTFgAAAACgIpq2AAAAAAAV0bQFAAAAAKiIpi0AAAAAQEU0bQEAAAAAKqJpCwAAAABQEU1bAAAAAICKaNoCAAAAAFRE0xYAAAAAoCKatgAAAAAAFdG0BQAAAACoiKYtAAAAAEBFNG0BAAAAACqiaQsAAAAAUBFNWwAAAACAimjaAgAAAABURNMWAAAAAKAimrYAAAAAABXRtAUAAAAAqIimLQAAAABARTRtAQAAAAAqomkLAAAAAFARTVsAAAAAgIpo2gIAAAAAVETTFgAAAACgIpq2AAAAAAAV0bQFAAAAAKiIpi0AAAAAQEU0bQEAAAAAKqJpCwAAAABQEU1bAAAAAICKaNoCAAAAAFRE0xYAAAAAoCKatgAAAAAAFdG0BQAAAACoiKYtAAAAAEBFNG0BAAAAACqiaQsAAAAAUBFNWwAAAACAimjaAgAAAABURNMWAAAAAKAimrYAAAAAABXRtAUAAAAAqIimLQAAAABARTRtAQAAAAAqomkLAAAAAFARTVsAAAAAgIpo2gIAAAAAVETTFgAAAACgIpq2AAAAAAAV0bQFAAAAAKiIpi0AAAAAQEU0bQEAAAAAKqJpCwAAAABQEU1bAAAAAICKaNoCAAAAAFRE0xYAAAAAoCKatgAAAAAAFdG0BQAAAACoiKYtAAAAAEBFNG0BAAAAACqiaQsAAAAAUBFNWwAAAACAimjaAgAAAABURNMWAAAAAKAimrYAAAAAABXRtAUAAAAAqIimLQAAAABARTRtAQAAAAAqomkLAAAAAFARTVsAAAAAgIpo2gIAAAAAVETTFgAAAACgIpq2AAAAAAAV0bQFAAAAAKiIpi0AAAAAQEU0bQEAAAAAKqJpCwAAAABQEU1bAAAAAICKaNoCAAAAAFRE0xYAAAAAoCKatgAAAAAAFdG0BQAAAACoiKYtAAAAAEBFNG0BAAAAACqiaQsAAAAAUBFNWwAAAACAimjaAgAAAABURNMWAAAAAKAimrYAAAAAABXRtAUAAAAAqIimLQAAAABARTRtAQAAAAAqomkLAAAAAFARTVsAAAAAgIpo2gIAAAAAVETTFgAAAACgIpq2AAAAAAAV0bQFAAAAAKiIpi0AAAAAQEU0bQEAAAAAKqJpCwAAAABQEU1bAAAAAICKaNoCAAAAAFRE0xYAAAAAoCKatgAAAAAAFdG0BQAAAACoiKYtAAAAAEBFNG0BAAAAACqiaQsAAAAAUBFNWwAAAACAimjaAgAAAABURNMWAAAAAKAimrYAAAAAABXRtAUAAAAAqIimLQAAAABARTRtAQAAAAAqomkLAAAAAFARTVsAAAAAgIpo2gIAAAAAVETTFgAAAACgIpq2AAAAAAAV0bQFAAAAAKiIpi0AAAAAQEU0bQEAAAAAKqJpCwAAAABQEU1bAAAAAICKaNoCAAAAAFRE0xYAAAAAoBq/+c3/H4OMUZAnQMSVAAAAAElFTkSuQmCC)"
      ]
    },
    {
      "cell_type": "code",
      "metadata": {
        "colab": {
          "base_uri": "https://localhost:8080/"
        },
        "id": "zZ2QIOdiNuHL",
        "outputId": "8ffc40fe-fd1f-4c91-efd4-0225b842da05"
      },
      "source": [
        "import math\r\n",
        "def scheduler1(epoch, lr):\r\n",
        "  if epoch < 10:\r\n",
        "    return lr\r\n",
        "  else:\r\n",
        "    return lr * tf.math.exp(-0.1)\r\n",
        "\r\n",
        "def step_decay(epoch):\r\n",
        "   initial_lrate = 0.1\r\n",
        "   drop = 0.5\r\n",
        "   epochs_drop = 10.0\r\n",
        "   lrate = initial_lrate * math.pow(drop,  \r\n",
        "           math.floor((1+epoch)/epochs_drop))\r\n",
        "   return lrate\r\n",
        "scheduler= tf.keras.callbacks.LearningRateScheduler(scheduler1)\r\n",
        "r= model.fit(X,y,epochs=200,callbacks=[scheduler])"
      ],
      "execution_count": 33,
      "outputs": [
        {
          "output_type": "stream",
          "text": [
            "Epoch 1/200\n",
            "6/6 [==============================] - 0s 2ms/step - loss: 362.2219\n",
            "Epoch 2/200\n",
            "6/6 [==============================] - 0s 2ms/step - loss: 301.1007\n",
            "Epoch 3/200\n",
            "6/6 [==============================] - 0s 2ms/step - loss: 246.9128\n",
            "Epoch 4/200\n",
            "6/6 [==============================] - 0s 2ms/step - loss: 216.5541\n",
            "Epoch 5/200\n",
            "6/6 [==============================] - 0s 2ms/step - loss: 189.0800\n",
            "Epoch 6/200\n",
            "6/6 [==============================] - 0s 2ms/step - loss: 161.3815\n",
            "Epoch 7/200\n",
            "6/6 [==============================] - 0s 2ms/step - loss: 106.8536\n",
            "Epoch 8/200\n",
            "6/6 [==============================] - 0s 2ms/step - loss: 71.7913\n",
            "Epoch 9/200\n",
            "6/6 [==============================] - 0s 2ms/step - loss: 63.1112\n",
            "Epoch 10/200\n",
            "6/6 [==============================] - 0s 2ms/step - loss: 69.7965\n",
            "Epoch 11/200\n",
            "6/6 [==============================] - 0s 2ms/step - loss: 35.6116\n",
            "Epoch 12/200\n",
            "6/6 [==============================] - 0s 3ms/step - loss: 30.0327\n",
            "Epoch 13/200\n",
            "6/6 [==============================] - 0s 3ms/step - loss: 24.6573\n",
            "Epoch 14/200\n",
            "6/6 [==============================] - 0s 2ms/step - loss: 13.4386\n",
            "Epoch 15/200\n",
            "6/6 [==============================] - 0s 2ms/step - loss: 11.5240\n",
            "Epoch 16/200\n",
            "6/6 [==============================] - 0s 2ms/step - loss: 8.3788\n",
            "Epoch 17/200\n",
            "6/6 [==============================] - 0s 2ms/step - loss: 7.2227\n",
            "Epoch 18/200\n",
            "6/6 [==============================] - 0s 2ms/step - loss: 6.0230\n",
            "Epoch 19/200\n",
            "6/6 [==============================] - 0s 2ms/step - loss: 5.1134\n",
            "Epoch 20/200\n",
            "6/6 [==============================] - 0s 3ms/step - loss: 4.7917\n",
            "Epoch 21/200\n",
            "6/6 [==============================] - 0s 2ms/step - loss: 4.7024\n",
            "Epoch 22/200\n",
            "6/6 [==============================] - 0s 2ms/step - loss: 3.8060\n",
            "Epoch 23/200\n",
            "6/6 [==============================] - 0s 3ms/step - loss: 3.3490\n",
            "Epoch 24/200\n",
            "6/6 [==============================] - 0s 2ms/step - loss: 3.2941\n",
            "Epoch 25/200\n",
            "6/6 [==============================] - 0s 2ms/step - loss: 3.2259\n",
            "Epoch 26/200\n",
            "6/6 [==============================] - 0s 2ms/step - loss: 3.0168\n",
            "Epoch 27/200\n",
            "6/6 [==============================] - 0s 1ms/step - loss: 2.7684\n",
            "Epoch 28/200\n",
            "6/6 [==============================] - 0s 1ms/step - loss: 2.7801\n",
            "Epoch 29/200\n",
            "6/6 [==============================] - 0s 1ms/step - loss: 2.5579\n",
            "Epoch 30/200\n",
            "6/6 [==============================] - 0s 2ms/step - loss: 2.3230\n",
            "Epoch 31/200\n",
            "6/6 [==============================] - 0s 2ms/step - loss: 2.4776\n",
            "Epoch 32/200\n",
            "6/6 [==============================] - 0s 1ms/step - loss: 2.3484\n",
            "Epoch 33/200\n",
            "6/6 [==============================] - 0s 1ms/step - loss: 2.5338\n",
            "Epoch 34/200\n",
            "6/6 [==============================] - 0s 2ms/step - loss: 2.2331\n",
            "Epoch 35/200\n",
            "6/6 [==============================] - 0s 2ms/step - loss: 2.3202\n",
            "Epoch 36/200\n",
            "6/6 [==============================] - 0s 2ms/step - loss: 2.2168\n",
            "Epoch 37/200\n",
            "6/6 [==============================] - 0s 1ms/step - loss: 2.2665\n",
            "Epoch 38/200\n",
            "6/6 [==============================] - 0s 1ms/step - loss: 2.1386\n",
            "Epoch 39/200\n",
            "6/6 [==============================] - 0s 2ms/step - loss: 2.3031\n",
            "Epoch 40/200\n",
            "6/6 [==============================] - 0s 2ms/step - loss: 2.2210\n",
            "Epoch 41/200\n",
            "6/6 [==============================] - 0s 2ms/step - loss: 1.9587\n",
            "Epoch 42/200\n",
            "6/6 [==============================] - 0s 2ms/step - loss: 2.2297\n",
            "Epoch 43/200\n",
            "6/6 [==============================] - 0s 2ms/step - loss: 2.0279\n",
            "Epoch 44/200\n",
            "6/6 [==============================] - 0s 2ms/step - loss: 2.0412\n",
            "Epoch 45/200\n",
            "6/6 [==============================] - 0s 2ms/step - loss: 2.0356\n",
            "Epoch 46/200\n",
            "6/6 [==============================] - 0s 2ms/step - loss: 1.9433\n",
            "Epoch 47/200\n",
            "6/6 [==============================] - 0s 2ms/step - loss: 2.0404\n",
            "Epoch 48/200\n",
            "6/6 [==============================] - 0s 2ms/step - loss: 2.1234\n",
            "Epoch 49/200\n",
            "6/6 [==============================] - 0s 2ms/step - loss: 2.0799\n",
            "Epoch 50/200\n",
            "6/6 [==============================] - 0s 2ms/step - loss: 2.0224\n",
            "Epoch 51/200\n",
            "6/6 [==============================] - 0s 2ms/step - loss: 1.9175\n",
            "Epoch 52/200\n",
            "6/6 [==============================] - 0s 2ms/step - loss: 2.1703\n",
            "Epoch 53/200\n",
            "6/6 [==============================] - 0s 2ms/step - loss: 1.8934\n",
            "Epoch 54/200\n",
            "6/6 [==============================] - 0s 2ms/step - loss: 2.0229\n",
            "Epoch 55/200\n",
            "6/6 [==============================] - 0s 1ms/step - loss: 1.9905\n",
            "Epoch 56/200\n",
            "6/6 [==============================] - 0s 2ms/step - loss: 2.0793\n",
            "Epoch 57/200\n",
            "6/6 [==============================] - 0s 1ms/step - loss: 2.0929\n",
            "Epoch 58/200\n",
            "6/6 [==============================] - 0s 2ms/step - loss: 1.8699\n",
            "Epoch 59/200\n",
            "6/6 [==============================] - 0s 2ms/step - loss: 2.0615\n",
            "Epoch 60/200\n",
            "6/6 [==============================] - 0s 2ms/step - loss: 2.0917\n",
            "Epoch 61/200\n",
            "6/6 [==============================] - 0s 2ms/step - loss: 2.0933\n",
            "Epoch 62/200\n",
            "6/6 [==============================] - 0s 2ms/step - loss: 2.0510\n",
            "Epoch 63/200\n",
            "6/6 [==============================] - 0s 3ms/step - loss: 2.0439\n",
            "Epoch 64/200\n",
            "6/6 [==============================] - 0s 2ms/step - loss: 2.2085\n",
            "Epoch 65/200\n",
            "6/6 [==============================] - 0s 2ms/step - loss: 1.9789\n",
            "Epoch 66/200\n",
            "6/6 [==============================] - 0s 2ms/step - loss: 2.0328\n",
            "Epoch 67/200\n",
            "6/6 [==============================] - 0s 2ms/step - loss: 1.9063\n",
            "Epoch 68/200\n",
            "6/6 [==============================] - 0s 2ms/step - loss: 2.0530\n",
            "Epoch 69/200\n",
            "6/6 [==============================] - 0s 2ms/step - loss: 1.9026\n",
            "Epoch 70/200\n",
            "6/6 [==============================] - 0s 2ms/step - loss: 1.8301\n",
            "Epoch 71/200\n",
            "6/6 [==============================] - 0s 2ms/step - loss: 1.8523\n",
            "Epoch 72/200\n",
            "6/6 [==============================] - 0s 2ms/step - loss: 1.7919\n",
            "Epoch 73/200\n",
            "6/6 [==============================] - 0s 2ms/step - loss: 2.0445\n",
            "Epoch 74/200\n",
            "6/6 [==============================] - 0s 2ms/step - loss: 1.9164\n",
            "Epoch 75/200\n",
            "6/6 [==============================] - 0s 2ms/step - loss: 2.0367\n",
            "Epoch 76/200\n",
            "6/6 [==============================] - 0s 2ms/step - loss: 2.1184\n",
            "Epoch 77/200\n",
            "6/6 [==============================] - 0s 2ms/step - loss: 1.9494\n",
            "Epoch 78/200\n",
            "6/6 [==============================] - 0s 3ms/step - loss: 2.1019\n",
            "Epoch 79/200\n",
            "6/6 [==============================] - 0s 2ms/step - loss: 1.9456\n",
            "Epoch 80/200\n",
            "6/6 [==============================] - 0s 3ms/step - loss: 1.8609\n",
            "Epoch 81/200\n",
            "6/6 [==============================] - 0s 2ms/step - loss: 1.9110\n",
            "Epoch 82/200\n",
            "6/6 [==============================] - 0s 2ms/step - loss: 2.0662\n",
            "Epoch 83/200\n",
            "6/6 [==============================] - 0s 2ms/step - loss: 1.9884\n",
            "Epoch 84/200\n",
            "6/6 [==============================] - 0s 2ms/step - loss: 1.9657\n",
            "Epoch 85/200\n",
            "6/6 [==============================] - 0s 2ms/step - loss: 1.9543\n",
            "Epoch 86/200\n",
            "6/6 [==============================] - 0s 2ms/step - loss: 2.0434\n",
            "Epoch 87/200\n",
            "6/6 [==============================] - 0s 2ms/step - loss: 1.9234\n",
            "Epoch 88/200\n",
            "6/6 [==============================] - 0s 3ms/step - loss: 2.0525\n",
            "Epoch 89/200\n",
            "6/6 [==============================] - 0s 3ms/step - loss: 2.0131\n",
            "Epoch 90/200\n",
            "6/6 [==============================] - 0s 2ms/step - loss: 2.1271\n",
            "Epoch 91/200\n",
            "6/6 [==============================] - 0s 2ms/step - loss: 1.8897\n",
            "Epoch 92/200\n",
            "6/6 [==============================] - 0s 2ms/step - loss: 2.0976\n",
            "Epoch 93/200\n",
            "6/6 [==============================] - 0s 2ms/step - loss: 1.9079\n",
            "Epoch 94/200\n",
            "6/6 [==============================] - 0s 2ms/step - loss: 2.0527\n",
            "Epoch 95/200\n",
            "6/6 [==============================] - 0s 2ms/step - loss: 1.9310\n",
            "Epoch 96/200\n",
            "6/6 [==============================] - 0s 2ms/step - loss: 1.9202\n",
            "Epoch 97/200\n",
            "6/6 [==============================] - 0s 2ms/step - loss: 1.8865\n",
            "Epoch 98/200\n",
            "6/6 [==============================] - 0s 2ms/step - loss: 1.9944\n",
            "Epoch 99/200\n",
            "6/6 [==============================] - 0s 2ms/step - loss: 2.2275\n",
            "Epoch 100/200\n",
            "6/6 [==============================] - 0s 2ms/step - loss: 1.9658\n",
            "Epoch 101/200\n",
            "6/6 [==============================] - 0s 2ms/step - loss: 2.0239\n",
            "Epoch 102/200\n",
            "6/6 [==============================] - 0s 2ms/step - loss: 1.9832\n",
            "Epoch 103/200\n",
            "6/6 [==============================] - 0s 2ms/step - loss: 1.8795\n",
            "Epoch 104/200\n",
            "6/6 [==============================] - 0s 2ms/step - loss: 2.0649\n",
            "Epoch 105/200\n",
            "6/6 [==============================] - 0s 2ms/step - loss: 1.9556\n",
            "Epoch 106/200\n",
            "6/6 [==============================] - 0s 2ms/step - loss: 1.9698\n",
            "Epoch 107/200\n",
            "6/6 [==============================] - 0s 2ms/step - loss: 2.0908\n",
            "Epoch 108/200\n",
            "6/6 [==============================] - 0s 2ms/step - loss: 1.9501\n",
            "Epoch 109/200\n",
            "6/6 [==============================] - 0s 2ms/step - loss: 2.0009\n",
            "Epoch 110/200\n",
            "6/6 [==============================] - 0s 2ms/step - loss: 1.9153\n",
            "Epoch 111/200\n",
            "6/6 [==============================] - 0s 2ms/step - loss: 1.9565\n",
            "Epoch 112/200\n",
            "6/6 [==============================] - 0s 2ms/step - loss: 2.0188\n",
            "Epoch 113/200\n",
            "6/6 [==============================] - 0s 2ms/step - loss: 1.8132\n",
            "Epoch 114/200\n",
            "6/6 [==============================] - 0s 4ms/step - loss: 1.8690\n",
            "Epoch 115/200\n",
            "6/6 [==============================] - 0s 2ms/step - loss: 1.9612\n",
            "Epoch 116/200\n",
            "6/6 [==============================] - 0s 2ms/step - loss: 1.9628\n",
            "Epoch 117/200\n",
            "6/6 [==============================] - 0s 2ms/step - loss: 1.9910\n",
            "Epoch 118/200\n",
            "6/6 [==============================] - 0s 2ms/step - loss: 2.0451\n",
            "Epoch 119/200\n",
            "6/6 [==============================] - 0s 2ms/step - loss: 1.7558\n",
            "Epoch 120/200\n",
            "6/6 [==============================] - 0s 2ms/step - loss: 2.0228\n",
            "Epoch 121/200\n",
            "6/6 [==============================] - 0s 2ms/step - loss: 1.9577\n",
            "Epoch 122/200\n",
            "6/6 [==============================] - 0s 3ms/step - loss: 1.8432\n",
            "Epoch 123/200\n",
            "6/6 [==============================] - 0s 2ms/step - loss: 1.8588\n",
            "Epoch 124/200\n",
            "6/6 [==============================] - 0s 2ms/step - loss: 2.0506\n",
            "Epoch 125/200\n",
            "6/6 [==============================] - 0s 2ms/step - loss: 2.0197\n",
            "Epoch 126/200\n",
            "6/6 [==============================] - 0s 4ms/step - loss: 1.8483\n",
            "Epoch 127/200\n",
            "6/6 [==============================] - 0s 2ms/step - loss: 1.8984\n",
            "Epoch 128/200\n",
            "6/6 [==============================] - 0s 3ms/step - loss: 1.9887\n",
            "Epoch 129/200\n",
            "6/6 [==============================] - 0s 2ms/step - loss: 1.9551\n",
            "Epoch 130/200\n",
            "6/6 [==============================] - 0s 3ms/step - loss: 1.8088\n",
            "Epoch 131/200\n",
            "6/6 [==============================] - 0s 3ms/step - loss: 1.8650\n",
            "Epoch 132/200\n",
            "6/6 [==============================] - 0s 2ms/step - loss: 2.0495\n",
            "Epoch 133/200\n",
            "6/6 [==============================] - 0s 3ms/step - loss: 1.8673\n",
            "Epoch 134/200\n",
            "6/6 [==============================] - 0s 3ms/step - loss: 1.8228\n",
            "Epoch 135/200\n",
            "6/6 [==============================] - 0s 2ms/step - loss: 1.9464\n",
            "Epoch 136/200\n",
            "6/6 [==============================] - 0s 2ms/step - loss: 1.9311\n",
            "Epoch 137/200\n",
            "6/6 [==============================] - 0s 3ms/step - loss: 2.0349\n",
            "Epoch 138/200\n",
            "6/6 [==============================] - 0s 2ms/step - loss: 2.0136\n",
            "Epoch 139/200\n",
            "6/6 [==============================] - 0s 3ms/step - loss: 1.9696\n",
            "Epoch 140/200\n",
            "6/6 [==============================] - 0s 2ms/step - loss: 1.7532\n",
            "Epoch 141/200\n",
            "6/6 [==============================] - 0s 2ms/step - loss: 1.8177\n",
            "Epoch 142/200\n",
            "6/6 [==============================] - 0s 2ms/step - loss: 1.9585\n",
            "Epoch 143/200\n",
            "6/6 [==============================] - 0s 3ms/step - loss: 1.9305\n",
            "Epoch 144/200\n",
            "6/6 [==============================] - 0s 2ms/step - loss: 1.9856\n",
            "Epoch 145/200\n",
            "6/6 [==============================] - 0s 2ms/step - loss: 2.0597\n",
            "Epoch 146/200\n",
            "6/6 [==============================] - 0s 2ms/step - loss: 1.9313\n",
            "Epoch 147/200\n",
            "6/6 [==============================] - 0s 2ms/step - loss: 2.0363\n",
            "Epoch 148/200\n",
            "6/6 [==============================] - 0s 2ms/step - loss: 2.0801\n",
            "Epoch 149/200\n",
            "6/6 [==============================] - 0s 2ms/step - loss: 2.1467\n",
            "Epoch 150/200\n",
            "6/6 [==============================] - 0s 2ms/step - loss: 1.9753\n",
            "Epoch 151/200\n",
            "6/6 [==============================] - 0s 2ms/step - loss: 1.9922\n",
            "Epoch 152/200\n",
            "6/6 [==============================] - 0s 2ms/step - loss: 2.0376\n",
            "Epoch 153/200\n",
            "6/6 [==============================] - 0s 2ms/step - loss: 1.8120\n",
            "Epoch 154/200\n",
            "6/6 [==============================] - 0s 2ms/step - loss: 2.0490\n",
            "Epoch 155/200\n",
            "6/6 [==============================] - 0s 2ms/step - loss: 1.9248\n",
            "Epoch 156/200\n",
            "6/6 [==============================] - 0s 2ms/step - loss: 1.9934\n",
            "Epoch 157/200\n",
            "6/6 [==============================] - 0s 3ms/step - loss: 1.8763\n",
            "Epoch 158/200\n",
            "6/6 [==============================] - 0s 4ms/step - loss: 2.0268\n",
            "Epoch 159/200\n",
            "6/6 [==============================] - 0s 2ms/step - loss: 1.9904\n",
            "Epoch 160/200\n",
            "6/6 [==============================] - 0s 3ms/step - loss: 1.9066\n",
            "Epoch 161/200\n",
            "6/6 [==============================] - 0s 3ms/step - loss: 1.9525\n",
            "Epoch 162/200\n",
            "6/6 [==============================] - 0s 2ms/step - loss: 2.1217\n",
            "Epoch 163/200\n",
            "6/6 [==============================] - 0s 2ms/step - loss: 2.1491\n",
            "Epoch 164/200\n",
            "6/6 [==============================] - 0s 2ms/step - loss: 1.8396\n",
            "Epoch 165/200\n",
            "6/6 [==============================] - 0s 2ms/step - loss: 1.8532\n",
            "Epoch 166/200\n",
            "6/6 [==============================] - 0s 3ms/step - loss: 2.0298\n",
            "Epoch 167/200\n",
            "6/6 [==============================] - 0s 3ms/step - loss: 1.8855\n",
            "Epoch 168/200\n",
            "6/6 [==============================] - 0s 2ms/step - loss: 2.0487\n",
            "Epoch 169/200\n",
            "6/6 [==============================] - 0s 2ms/step - loss: 1.9007\n",
            "Epoch 170/200\n",
            "6/6 [==============================] - 0s 2ms/step - loss: 2.0393\n",
            "Epoch 171/200\n",
            "6/6 [==============================] - 0s 2ms/step - loss: 1.8977\n",
            "Epoch 172/200\n",
            "6/6 [==============================] - 0s 3ms/step - loss: 1.8676\n",
            "Epoch 173/200\n",
            "6/6 [==============================] - 0s 3ms/step - loss: 2.0586\n",
            "Epoch 174/200\n",
            "6/6 [==============================] - 0s 3ms/step - loss: 2.0197\n",
            "Epoch 175/200\n",
            "6/6 [==============================] - 0s 2ms/step - loss: 1.9366\n",
            "Epoch 176/200\n",
            "6/6 [==============================] - 0s 2ms/step - loss: 2.0413\n",
            "Epoch 177/200\n",
            "6/6 [==============================] - 0s 2ms/step - loss: 1.9762\n",
            "Epoch 178/200\n",
            "6/6 [==============================] - 0s 3ms/step - loss: 1.9720\n",
            "Epoch 179/200\n",
            "6/6 [==============================] - 0s 2ms/step - loss: 1.8437\n",
            "Epoch 180/200\n",
            "6/6 [==============================] - 0s 2ms/step - loss: 1.9165\n",
            "Epoch 181/200\n",
            "6/6 [==============================] - 0s 2ms/step - loss: 1.8188\n",
            "Epoch 182/200\n",
            "6/6 [==============================] - 0s 2ms/step - loss: 1.9163\n",
            "Epoch 183/200\n",
            "6/6 [==============================] - 0s 2ms/step - loss: 2.1387\n",
            "Epoch 184/200\n",
            "6/6 [==============================] - 0s 3ms/step - loss: 2.0143\n",
            "Epoch 185/200\n",
            "6/6 [==============================] - 0s 3ms/step - loss: 2.0758\n",
            "Epoch 186/200\n",
            "6/6 [==============================] - 0s 3ms/step - loss: 1.8908\n",
            "Epoch 187/200\n",
            "6/6 [==============================] - 0s 2ms/step - loss: 2.0211\n",
            "Epoch 188/200\n",
            "6/6 [==============================] - 0s 2ms/step - loss: 1.8872\n",
            "Epoch 189/200\n",
            "6/6 [==============================] - 0s 2ms/step - loss: 1.9418\n",
            "Epoch 190/200\n",
            "6/6 [==============================] - 0s 2ms/step - loss: 2.0976\n",
            "Epoch 191/200\n",
            "6/6 [==============================] - 0s 2ms/step - loss: 2.0187\n",
            "Epoch 192/200\n",
            "6/6 [==============================] - 0s 2ms/step - loss: 2.0602\n",
            "Epoch 193/200\n",
            "6/6 [==============================] - 0s 3ms/step - loss: 1.9269\n",
            "Epoch 194/200\n",
            "6/6 [==============================] - 0s 3ms/step - loss: 2.0149\n",
            "Epoch 195/200\n",
            "6/6 [==============================] - 0s 3ms/step - loss: 1.9439\n",
            "Epoch 196/200\n",
            "6/6 [==============================] - 0s 3ms/step - loss: 1.9281\n",
            "Epoch 197/200\n",
            "6/6 [==============================] - 0s 3ms/step - loss: 2.0668\n",
            "Epoch 198/200\n",
            "6/6 [==============================] - 0s 2ms/step - loss: 1.9407\n",
            "Epoch 199/200\n",
            "6/6 [==============================] - 0s 3ms/step - loss: 1.8507\n",
            "Epoch 200/200\n",
            "6/6 [==============================] - 0s 4ms/step - loss: 1.9520\n"
          ],
          "name": "stdout"
        }
      ]
    },
    {
      "cell_type": "code",
      "metadata": {
        "colab": {
          "base_uri": "https://localhost:8080/",
          "height": 283
        },
        "id": "yJ9k5DEPP_-o",
        "outputId": "bc5d87e0-5b16-4328-d272-bdef8d4cd427"
      },
      "source": [
        "plt.plot(r.history['loss'],label=\"Loss\")"
      ],
      "execution_count": 34,
      "outputs": [
        {
          "output_type": "execute_result",
          "data": {
            "text/plain": [
              "[<matplotlib.lines.Line2D at 0x7f1e4e158438>]"
            ]
          },
          "metadata": {
            "tags": []
          },
          "execution_count": 34
        },
        {
          "output_type": "display_data",
          "data": {
            "image/png": "[encoded data removed]",
            "text/plain": [
              "<Figure size 432x288 with 1 Axes>"
            ]
          },
          "metadata": {
            "tags": [],
            "needs_background": "light"
          }
        }
      ]
    },
    {
      "cell_type": "markdown",
      "metadata": {
        "id": "GVibzXplQzUO"
      },
      "source": [
        "# Get W:\r\n",
        "\r\n",
        "**input layer does not count**"
      ]
    },
    {
      "cell_type": "code",
      "metadata": {
        "colab": {
          "base_uri": "https://localhost:8080/"
        },
        "id": "7zM0-pXLQ1Ev",
        "outputId": "bc127bc8-35ce-4e65-a81d-2994d02e902f"
      },
      "source": [
        "a=model.layers[0].get_weights()\r\n",
        "print (model.layers[0].get_weights())   # slope (a)"
      ],
      "execution_count": 37,
      "outputs": [
        {
          "output_type": "stream",
          "text": [
            "[array([[0.34202135]], dtype=float32), array([16.720274], dtype=float32)]\n"
          ],
          "name": "stdout"
        }
      ]
    },
    {
      "cell_type": "markdown",
      "metadata": {
        "id": "p3e1MmezRP43"
      },
      "source": [
        "# time to double:\r\n",
        "                                                    C=A r^(t)\r\n",
        "\r\n",
        "                                            log c = log r *t + log A\r\n",
        "\r\n",
        "                                             y     = a     *x +   b\r\n",
        "\r\n",
        "\r\n",
        "---\r\n",
        "\r\n",
        "\r\n",
        "                                                  a = log r\r\n",
        "                                                  b = log A\r\n",
        "\r\n",
        "\r\n",
        "---\r\n",
        "\r\n",
        "\r\n",
        "                                                  2*C=A r^(t_next)\r\n",
        "\r\n",
        "                                                  2 =r^(t_next-t)\r\n",
        "                                                  t_next-t = log2/log r\r\n",
        "\r\n",
        "\r\n",
        "\r\n",
        "---"
      ]
    },
    {
      "cell_type": "code",
      "metadata": {
        "colab": {
          "base_uri": "https://localhost:8080/"
        },
        "id": "-bSroaRkS-Fa",
        "outputId": "51967db9-6911-4f2d-db2d-6a10208bb186"
      },
      "source": [
        "\r\n",
        "print(math.log(2)/a[0][0])"
      ],
      "execution_count": 39,
      "outputs": [
        {
          "output_type": "stream",
          "text": [
            "[2.0266197]\n"
          ],
          "name": "stdout"
        }
      ]
    },
    {
      "cell_type": "markdown",
      "metadata": {
        "id": "HsNlw71wTepM"
      },
      "source": [
        "# conclusion:\r\n",
        "Moore's law is the observation that the number of transistors in a dense integrated circuit **doubles** about every two **years**.\r\n"
      ]
    }
  ]
}