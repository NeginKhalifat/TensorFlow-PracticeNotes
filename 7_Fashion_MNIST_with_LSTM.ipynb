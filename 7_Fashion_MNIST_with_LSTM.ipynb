{
  "nbformat": 4,
  "nbformat_minor": 0,
  "metadata": {
    "colab": {
      "name": "7_Fashion_MNIST_with_LSTM.ipynb",
      "provenance": [],
      "authorship_tag": "ABX9TyMS5goKpTMoyJI3X27QAqVw",
      "include_colab_link": true
    },
    "kernelspec": {
      "name": "python3",
      "display_name": "Python 3"
    },
    "accelerator": "GPU"
  },
  "cells": [
    {
      "cell_type": "markdown",
      "metadata": {
        "id": "view-in-github",
        "colab_type": "text"
      },
      "source": [
        "<a href=\"https://colab.research.google.com/github/NeginKhalifat/TensorFlow_PracticeNotes/blob/main/7_Fashion_MNIST_with_LSTM.ipynb\" target=\"_parent\"><img src=\"https://colab.research.google.com/assets/colab-badge.svg\" alt=\"Open In Colab\"/></a>"
      ]
    },
    {
      "cell_type": "markdown",
      "metadata": {
        "id": "tpTkJi4eqAHs"
      },
      "source": [
        "# Classification with LSTM"
      ]
    },
    {
      "cell_type": "code",
      "metadata": {
        "id": "MQfwmyHFkLIh"
      },
      "source": [
        "import tensorflow as tf\r\n",
        "import matplotlib.pyplot as plt\r\n",
        "from tensorflow.keras.layers import Dense,GlobalMaxPooling2D,GlobalMaxPooling1D,LSTM,GRU,Input, Conv2D\r\n",
        "from tensorflow.keras.models import Model\r\n",
        "import numpy as np\r\n"
      ],
      "execution_count": 37,
      "outputs": []
    },
    {
      "cell_type": "code",
      "metadata": {
        "colab": {
          "base_uri": "https://localhost:8080/"
        },
        "id": "Eyh9C2belCBU",
        "outputId": "cc675c64-9d67-4f9e-b8aa-6c86359cfe47"
      },
      "source": [
        "fashion_mnist = tf.keras.datasets.fashion_mnist\r\n",
        "(X_train,y_train),(X_test,y_test) = fashion_mnist.load_data()\r\n",
        "X_train ,X_test = X_train/255.0,X_test/255.0\r\n",
        "X_train.shape"
      ],
      "execution_count": 29,
      "outputs": [
        {
          "output_type": "execute_result",
          "data": {
            "text/plain": [
              "(60000, 28, 28)"
            ]
          },
          "metadata": {
            "tags": []
          },
          "execution_count": 29
        }
      ]
    },
    {
      "cell_type": "markdown",
      "metadata": {
        "id": "ptT9nQ7KmNNr"
      },
      "source": [
        "Convolution: N * W * H *C\r\n",
        "\r\n",
        "RNN : N* T * D"
      ]
    },
    {
      "cell_type": "code",
      "metadata": {
        "id": "7L7hpCT-mLaB"
      },
      "source": [
        "T = X_train[0].shape[0]\r\n",
        "i =Input(shape=X_train[0].shape)\r\n",
        "x = LSTM(128)(i)\r\n",
        "x = Dense(10,activation='softmax')(x)\r\n",
        "model = Model(i,x)"
      ],
      "execution_count": 30,
      "outputs": []
    },
    {
      "cell_type": "code",
      "metadata": {
        "id": "LMp-UtIPokEX"
      },
      "source": [
        "model.compile(optimizer='adam',loss='sparse_categorical_crossentropy',metrics=['accuracy'])"
      ],
      "execution_count": 31,
      "outputs": []
    },
    {
      "cell_type": "code",
      "metadata": {
        "colab": {
          "base_uri": "https://localhost:8080/"
        },
        "id": "O_IaWVXfo1B_",
        "outputId": "df832d39-a6c8-408f-e9a4-d08dbf8784b6"
      },
      "source": [
        "model.fit(X_train,y_train,validation_data=(X_test,y_test),epochs=10)"
      ],
      "execution_count": 32,
      "outputs": [
        {
          "output_type": "stream",
          "text": [
            "Epoch 1/10\n",
            "1875/1875 [==============================] - 9s 4ms/step - loss: 0.7580 - accuracy: 0.7266 - val_loss: 0.4384 - val_accuracy: 0.8363\n",
            "Epoch 2/10\n",
            "1875/1875 [==============================] - 7s 4ms/step - loss: 0.4110 - accuracy: 0.8480 - val_loss: 0.4254 - val_accuracy: 0.8429\n",
            "Epoch 3/10\n",
            "1875/1875 [==============================] - 7s 4ms/step - loss: 0.3598 - accuracy: 0.8660 - val_loss: 0.3616 - val_accuracy: 0.8683\n",
            "Epoch 4/10\n",
            "1875/1875 [==============================] - 7s 4ms/step - loss: 0.3244 - accuracy: 0.8770 - val_loss: 0.3375 - val_accuracy: 0.8775\n",
            "Epoch 5/10\n",
            "1875/1875 [==============================] - 7s 4ms/step - loss: 0.3066 - accuracy: 0.8849 - val_loss: 0.3272 - val_accuracy: 0.8784\n",
            "Epoch 6/10\n",
            "1875/1875 [==============================] - 7s 4ms/step - loss: 0.2907 - accuracy: 0.8912 - val_loss: 0.3128 - val_accuracy: 0.8845\n",
            "Epoch 7/10\n",
            "1875/1875 [==============================] - 7s 4ms/step - loss: 0.2662 - accuracy: 0.9001 - val_loss: 0.2997 - val_accuracy: 0.8921\n",
            "Epoch 8/10\n",
            "1875/1875 [==============================] - 7s 4ms/step - loss: 0.2541 - accuracy: 0.9055 - val_loss: 0.2933 - val_accuracy: 0.8941\n",
            "Epoch 9/10\n",
            "1875/1875 [==============================] - 7s 4ms/step - loss: 0.2433 - accuracy: 0.9086 - val_loss: 0.3000 - val_accuracy: 0.8930\n",
            "Epoch 10/10\n",
            "1875/1875 [==============================] - 7s 4ms/step - loss: 0.2348 - accuracy: 0.9130 - val_loss: 0.2984 - val_accuracy: 0.8882\n"
          ],
          "name": "stdout"
        },
        {
          "output_type": "execute_result",
          "data": {
            "text/plain": [
              "<tensorflow.python.keras.callbacks.History at 0x7f31c871bb90>"
            ]
          },
          "metadata": {
            "tags": []
          },
          "execution_count": 32
        }
      ]
    },
    {
      "cell_type": "code",
      "metadata": {
        "id": "7QLvV5KRpD1y"
      },
      "source": [
        "\r\n",
        "i =Input(shape=X_train[0].shape)\r\n",
        "x = LSTM(128,return_sequences=True)(i)\r\n",
        "x = GlobalMaxPooling1D()(x)\r\n",
        "x = Dense(10,activation='softmax')(x)\r\n",
        "improved_model = Model(i,x)"
      ],
      "execution_count": 33,
      "outputs": []
    },
    {
      "cell_type": "code",
      "metadata": {
        "id": "M87XUszmqV6P"
      },
      "source": [
        "improved_model.compile(optimizer='adam',loss='sparse_categorical_crossentropy',metrics=['accuracy'])"
      ],
      "execution_count": 34,
      "outputs": []
    },
    {
      "cell_type": "code",
      "metadata": {
        "colab": {
          "base_uri": "https://localhost:8080/"
        },
        "id": "tQhd2WQnq6sd",
        "outputId": "3ed58e19-08e7-4cd0-d69e-df8c195c8c78"
      },
      "source": [
        "improved_model.fit(X_train,y_train,validation_data=(X_test,y_test),epochs=100)"
      ],
      "execution_count": 35,
      "outputs": [
        {
          "output_type": "stream",
          "text": [
            "Epoch 1/100\n",
            "1875/1875 [==============================] - 9s 4ms/step - loss: 0.8214 - accuracy: 0.7089 - val_loss: 0.4621 - val_accuracy: 0.8322\n",
            "Epoch 2/100\n",
            "1875/1875 [==============================] - 7s 4ms/step - loss: 0.4219 - accuracy: 0.8434 - val_loss: 0.3936 - val_accuracy: 0.8551\n",
            "Epoch 3/100\n",
            "1875/1875 [==============================] - 7s 4ms/step - loss: 0.3686 - accuracy: 0.8647 - val_loss: 0.3793 - val_accuracy: 0.8606\n",
            "Epoch 4/100\n",
            "1875/1875 [==============================] - 7s 4ms/step - loss: 0.3316 - accuracy: 0.8764 - val_loss: 0.3398 - val_accuracy: 0.8791\n",
            "Epoch 5/100\n",
            "1875/1875 [==============================] - 7s 4ms/step - loss: 0.3115 - accuracy: 0.8833 - val_loss: 0.3265 - val_accuracy: 0.8783\n",
            "Epoch 6/100\n",
            "1875/1875 [==============================] - 7s 4ms/step - loss: 0.2897 - accuracy: 0.8923 - val_loss: 0.3276 - val_accuracy: 0.8774\n",
            "Epoch 7/100\n",
            "1875/1875 [==============================] - 7s 4ms/step - loss: 0.2735 - accuracy: 0.8976 - val_loss: 0.3137 - val_accuracy: 0.8834\n",
            "Epoch 8/100\n",
            "1875/1875 [==============================] - 7s 4ms/step - loss: 0.2570 - accuracy: 0.9028 - val_loss: 0.3016 - val_accuracy: 0.8909\n",
            "Epoch 9/100\n",
            "1875/1875 [==============================] - 7s 4ms/step - loss: 0.2451 - accuracy: 0.9087 - val_loss: 0.2905 - val_accuracy: 0.8935\n",
            "Epoch 10/100\n",
            "1875/1875 [==============================] - 7s 4ms/step - loss: 0.2342 - accuracy: 0.9120 - val_loss: 0.2908 - val_accuracy: 0.8940\n",
            "Epoch 11/100\n",
            "1875/1875 [==============================] - 7s 4ms/step - loss: 0.2208 - accuracy: 0.9171 - val_loss: 0.2849 - val_accuracy: 0.8946\n",
            "Epoch 12/100\n",
            "1875/1875 [==============================] - 7s 4ms/step - loss: 0.2172 - accuracy: 0.9188 - val_loss: 0.2763 - val_accuracy: 0.9024\n",
            "Epoch 13/100\n",
            "1875/1875 [==============================] - 7s 4ms/step - loss: 0.2063 - accuracy: 0.9234 - val_loss: 0.2858 - val_accuracy: 0.8965\n",
            "Epoch 14/100\n",
            "1875/1875 [==============================] - 7s 4ms/step - loss: 0.2038 - accuracy: 0.9241 - val_loss: 0.2709 - val_accuracy: 0.8999\n",
            "Epoch 15/100\n",
            "1875/1875 [==============================] - 8s 4ms/step - loss: 0.1929 - accuracy: 0.9271 - val_loss: 0.2669 - val_accuracy: 0.9050\n",
            "Epoch 16/100\n",
            "1875/1875 [==============================] - 7s 4ms/step - loss: 0.1833 - accuracy: 0.9318 - val_loss: 0.2734 - val_accuracy: 0.9017\n",
            "Epoch 17/100\n",
            "1875/1875 [==============================] - 7s 4ms/step - loss: 0.1810 - accuracy: 0.9328 - val_loss: 0.2706 - val_accuracy: 0.9034\n",
            "Epoch 18/100\n",
            "1875/1875 [==============================] - 7s 4ms/step - loss: 0.1682 - accuracy: 0.9379 - val_loss: 0.2697 - val_accuracy: 0.9057\n",
            "Epoch 19/100\n",
            "1875/1875 [==============================] - 7s 4ms/step - loss: 0.1654 - accuracy: 0.9377 - val_loss: 0.2721 - val_accuracy: 0.9056\n",
            "Epoch 20/100\n",
            "1875/1875 [==============================] - 7s 4ms/step - loss: 0.1559 - accuracy: 0.9425 - val_loss: 0.2793 - val_accuracy: 0.9060\n",
            "Epoch 21/100\n",
            "1875/1875 [==============================] - 7s 4ms/step - loss: 0.1559 - accuracy: 0.9417 - val_loss: 0.2742 - val_accuracy: 0.9062\n",
            "Epoch 22/100\n",
            "1875/1875 [==============================] - 7s 4ms/step - loss: 0.1454 - accuracy: 0.9463 - val_loss: 0.2731 - val_accuracy: 0.9035\n",
            "Epoch 23/100\n",
            "1875/1875 [==============================] - 7s 4ms/step - loss: 0.1400 - accuracy: 0.9487 - val_loss: 0.2801 - val_accuracy: 0.9062\n",
            "Epoch 24/100\n",
            "1875/1875 [==============================] - 8s 4ms/step - loss: 0.1351 - accuracy: 0.9496 - val_loss: 0.2759 - val_accuracy: 0.9064\n",
            "Epoch 25/100\n",
            "1875/1875 [==============================] - 8s 4ms/step - loss: 0.1292 - accuracy: 0.9506 - val_loss: 0.2812 - val_accuracy: 0.9043\n",
            "Epoch 26/100\n",
            "1875/1875 [==============================] - 7s 4ms/step - loss: 0.1272 - accuracy: 0.9524 - val_loss: 0.2783 - val_accuracy: 0.9075\n",
            "Epoch 27/100\n",
            "1875/1875 [==============================] - 8s 4ms/step - loss: 0.1202 - accuracy: 0.9553 - val_loss: 0.2959 - val_accuracy: 0.9011\n",
            "Epoch 28/100\n",
            "1875/1875 [==============================] - 7s 4ms/step - loss: 0.1164 - accuracy: 0.9576 - val_loss: 0.2935 - val_accuracy: 0.9069\n",
            "Epoch 29/100\n",
            "1875/1875 [==============================] - 7s 4ms/step - loss: 0.1148 - accuracy: 0.9570 - val_loss: 0.2874 - val_accuracy: 0.9048\n",
            "Epoch 30/100\n",
            "1875/1875 [==============================] - 7s 4ms/step - loss: 0.1095 - accuracy: 0.9596 - val_loss: 0.2865 - val_accuracy: 0.9061\n",
            "Epoch 31/100\n",
            "1875/1875 [==============================] - 7s 4ms/step - loss: 0.1021 - accuracy: 0.9627 - val_loss: 0.3058 - val_accuracy: 0.9042\n",
            "Epoch 32/100\n",
            "1875/1875 [==============================] - 7s 4ms/step - loss: 0.0959 - accuracy: 0.9653 - val_loss: 0.3010 - val_accuracy: 0.9024\n",
            "Epoch 33/100\n",
            "1875/1875 [==============================] - 7s 4ms/step - loss: 0.0939 - accuracy: 0.9654 - val_loss: 0.3031 - val_accuracy: 0.9044\n",
            "Epoch 34/100\n",
            "1875/1875 [==============================] - 7s 4ms/step - loss: 0.0928 - accuracy: 0.9660 - val_loss: 0.3055 - val_accuracy: 0.9034\n",
            "Epoch 35/100\n",
            "1875/1875 [==============================] - 7s 4ms/step - loss: 0.0908 - accuracy: 0.9678 - val_loss: 0.3328 - val_accuracy: 0.9009\n",
            "Epoch 36/100\n",
            "1875/1875 [==============================] - 7s 4ms/step - loss: 0.0878 - accuracy: 0.9677 - val_loss: 0.3153 - val_accuracy: 0.9080\n",
            "Epoch 37/100\n",
            "1875/1875 [==============================] - 7s 4ms/step - loss: 0.0847 - accuracy: 0.9696 - val_loss: 0.3341 - val_accuracy: 0.9023\n",
            "Epoch 38/100\n",
            "1875/1875 [==============================] - 7s 4ms/step - loss: 0.0810 - accuracy: 0.9708 - val_loss: 0.3236 - val_accuracy: 0.9040\n",
            "Epoch 39/100\n",
            "1875/1875 [==============================] - 7s 4ms/step - loss: 0.0761 - accuracy: 0.9734 - val_loss: 0.3325 - val_accuracy: 0.9032\n",
            "Epoch 40/100\n",
            "1875/1875 [==============================] - 7s 4ms/step - loss: 0.0707 - accuracy: 0.9752 - val_loss: 0.3304 - val_accuracy: 0.9032\n",
            "Epoch 41/100\n",
            "1875/1875 [==============================] - 7s 4ms/step - loss: 0.0693 - accuracy: 0.9756 - val_loss: 0.3409 - val_accuracy: 0.9018\n",
            "Epoch 42/100\n",
            "1875/1875 [==============================] - 7s 4ms/step - loss: 0.0685 - accuracy: 0.9762 - val_loss: 0.3445 - val_accuracy: 0.9003\n",
            "Epoch 43/100\n",
            "1875/1875 [==============================] - 7s 4ms/step - loss: 0.0668 - accuracy: 0.9764 - val_loss: 0.3419 - val_accuracy: 0.9050\n",
            "Epoch 44/100\n",
            "1875/1875 [==============================] - 7s 4ms/step - loss: 0.0635 - accuracy: 0.9779 - val_loss: 0.3538 - val_accuracy: 0.9034\n",
            "Epoch 45/100\n",
            "1875/1875 [==============================] - 7s 4ms/step - loss: 0.0576 - accuracy: 0.9806 - val_loss: 0.3509 - val_accuracy: 0.9040\n",
            "Epoch 46/100\n",
            "1875/1875 [==============================] - 7s 4ms/step - loss: 0.0628 - accuracy: 0.9769 - val_loss: 0.3694 - val_accuracy: 0.9025\n",
            "Epoch 47/100\n",
            "1875/1875 [==============================] - 7s 4ms/step - loss: 0.0588 - accuracy: 0.9794 - val_loss: 0.3594 - val_accuracy: 0.9037\n",
            "Epoch 48/100\n",
            "1875/1875 [==============================] - 7s 4ms/step - loss: 0.0582 - accuracy: 0.9797 - val_loss: 0.3569 - val_accuracy: 0.9080\n",
            "Epoch 49/100\n",
            "1875/1875 [==============================] - 7s 4ms/step - loss: 0.0535 - accuracy: 0.9809 - val_loss: 0.3741 - val_accuracy: 0.9024\n",
            "Epoch 50/100\n",
            "1875/1875 [==============================] - 7s 4ms/step - loss: 0.0540 - accuracy: 0.9818 - val_loss: 0.3853 - val_accuracy: 0.9022\n",
            "Epoch 51/100\n",
            "1875/1875 [==============================] - 7s 4ms/step - loss: 0.0526 - accuracy: 0.9816 - val_loss: 0.3601 - val_accuracy: 0.9048\n",
            "Epoch 52/100\n",
            "1875/1875 [==============================] - 7s 4ms/step - loss: 0.0487 - accuracy: 0.9838 - val_loss: 0.3786 - val_accuracy: 0.9044\n",
            "Epoch 53/100\n",
            "1875/1875 [==============================] - 7s 4ms/step - loss: 0.0452 - accuracy: 0.9848 - val_loss: 0.3962 - val_accuracy: 0.9020\n",
            "Epoch 54/100\n",
            "1875/1875 [==============================] - 7s 4ms/step - loss: 0.0512 - accuracy: 0.9818 - val_loss: 0.3716 - val_accuracy: 0.9047\n",
            "Epoch 55/100\n",
            "1875/1875 [==============================] - 7s 4ms/step - loss: 0.0447 - accuracy: 0.9848 - val_loss: 0.3811 - val_accuracy: 0.9060\n",
            "Epoch 56/100\n",
            "1875/1875 [==============================] - 7s 4ms/step - loss: 0.0444 - accuracy: 0.9845 - val_loss: 0.4000 - val_accuracy: 0.9039\n",
            "Epoch 57/100\n",
            "1875/1875 [==============================] - 7s 4ms/step - loss: 0.0449 - accuracy: 0.9848 - val_loss: 0.4047 - val_accuracy: 0.8976\n",
            "Epoch 58/100\n",
            "1875/1875 [==============================] - 7s 4ms/step - loss: 0.0435 - accuracy: 0.9855 - val_loss: 0.4147 - val_accuracy: 0.9030\n",
            "Epoch 59/100\n",
            "1875/1875 [==============================] - 7s 4ms/step - loss: 0.0368 - accuracy: 0.9878 - val_loss: 0.4335 - val_accuracy: 0.8943\n",
            "Epoch 60/100\n",
            "1875/1875 [==============================] - 7s 4ms/step - loss: 0.0438 - accuracy: 0.9846 - val_loss: 0.3986 - val_accuracy: 0.9019\n",
            "Epoch 61/100\n",
            "1875/1875 [==============================] - 7s 4ms/step - loss: 0.0399 - accuracy: 0.9865 - val_loss: 0.4073 - val_accuracy: 0.8997\n",
            "Epoch 62/100\n",
            "1875/1875 [==============================] - 7s 4ms/step - loss: 0.0434 - accuracy: 0.9854 - val_loss: 0.4128 - val_accuracy: 0.9016\n",
            "Epoch 63/100\n",
            "1875/1875 [==============================] - 7s 4ms/step - loss: 0.0356 - accuracy: 0.9879 - val_loss: 0.4261 - val_accuracy: 0.9011\n",
            "Epoch 64/100\n",
            "1875/1875 [==============================] - 7s 4ms/step - loss: 0.0371 - accuracy: 0.9878 - val_loss: 0.4235 - val_accuracy: 0.9031\n",
            "Epoch 65/100\n",
            "1875/1875 [==============================] - 7s 4ms/step - loss: 0.0357 - accuracy: 0.9875 - val_loss: 0.4318 - val_accuracy: 0.9055\n",
            "Epoch 66/100\n",
            "1875/1875 [==============================] - 7s 4ms/step - loss: 0.0401 - accuracy: 0.9865 - val_loss: 0.4070 - val_accuracy: 0.9057\n",
            "Epoch 67/100\n",
            "1875/1875 [==============================] - 7s 4ms/step - loss: 0.0332 - accuracy: 0.9891 - val_loss: 0.4303 - val_accuracy: 0.9040\n",
            "Epoch 68/100\n",
            "1875/1875 [==============================] - 7s 4ms/step - loss: 0.0300 - accuracy: 0.9902 - val_loss: 0.4257 - val_accuracy: 0.9033\n",
            "Epoch 69/100\n",
            "1875/1875 [==============================] - 7s 4ms/step - loss: 0.0351 - accuracy: 0.9876 - val_loss: 0.4291 - val_accuracy: 0.9034\n",
            "Epoch 70/100\n",
            "1875/1875 [==============================] - 7s 4ms/step - loss: 0.0336 - accuracy: 0.9886 - val_loss: 0.4163 - val_accuracy: 0.9059\n",
            "Epoch 71/100\n",
            "1875/1875 [==============================] - 7s 4ms/step - loss: 0.0315 - accuracy: 0.9900 - val_loss: 0.4326 - val_accuracy: 0.9052\n",
            "Epoch 72/100\n",
            "1875/1875 [==============================] - 7s 4ms/step - loss: 0.0301 - accuracy: 0.9903 - val_loss: 0.4415 - val_accuracy: 0.9033\n",
            "Epoch 73/100\n",
            "1875/1875 [==============================] - 7s 4ms/step - loss: 0.0338 - accuracy: 0.9889 - val_loss: 0.4382 - val_accuracy: 0.9043\n",
            "Epoch 74/100\n",
            "1875/1875 [==============================] - 7s 4ms/step - loss: 0.0261 - accuracy: 0.9917 - val_loss: 0.4381 - val_accuracy: 0.9041\n",
            "Epoch 75/100\n",
            "1875/1875 [==============================] - 7s 4ms/step - loss: 0.0291 - accuracy: 0.9902 - val_loss: 0.4626 - val_accuracy: 0.8991\n",
            "Epoch 76/100\n",
            "1875/1875 [==============================] - 7s 4ms/step - loss: 0.0331 - accuracy: 0.9891 - val_loss: 0.4588 - val_accuracy: 0.9045\n",
            "Epoch 77/100\n",
            "1875/1875 [==============================] - 7s 4ms/step - loss: 0.0303 - accuracy: 0.9894 - val_loss: 0.4649 - val_accuracy: 0.9056\n",
            "Epoch 78/100\n",
            "1875/1875 [==============================] - 7s 4ms/step - loss: 0.0280 - accuracy: 0.9908 - val_loss: 0.4523 - val_accuracy: 0.9033\n",
            "Epoch 79/100\n",
            "1875/1875 [==============================] - 7s 4ms/step - loss: 0.0265 - accuracy: 0.9916 - val_loss: 0.4713 - val_accuracy: 0.9018\n",
            "Epoch 80/100\n",
            "1875/1875 [==============================] - 7s 4ms/step - loss: 0.0279 - accuracy: 0.9913 - val_loss: 0.4648 - val_accuracy: 0.9041\n",
            "Epoch 81/100\n",
            "1875/1875 [==============================] - 7s 4ms/step - loss: 0.0253 - accuracy: 0.9920 - val_loss: 0.4569 - val_accuracy: 0.9043\n",
            "Epoch 82/100\n",
            "1875/1875 [==============================] - 7s 4ms/step - loss: 0.0286 - accuracy: 0.9906 - val_loss: 0.4760 - val_accuracy: 0.9016\n",
            "Epoch 83/100\n",
            "1875/1875 [==============================] - 7s 4ms/step - loss: 0.0235 - accuracy: 0.9924 - val_loss: 0.4751 - val_accuracy: 0.9019\n",
            "Epoch 84/100\n",
            "1875/1875 [==============================] - 7s 4ms/step - loss: 0.0238 - accuracy: 0.9933 - val_loss: 0.4515 - val_accuracy: 0.9071\n",
            "Epoch 85/100\n",
            "1875/1875 [==============================] - 7s 4ms/step - loss: 0.0234 - accuracy: 0.9925 - val_loss: 0.4672 - val_accuracy: 0.9041\n",
            "Epoch 86/100\n",
            "1875/1875 [==============================] - 7s 4ms/step - loss: 0.0249 - accuracy: 0.9923 - val_loss: 0.4726 - val_accuracy: 0.9073\n",
            "Epoch 87/100\n",
            "1875/1875 [==============================] - 7s 4ms/step - loss: 0.0277 - accuracy: 0.9905 - val_loss: 0.4800 - val_accuracy: 0.9038\n",
            "Epoch 88/100\n",
            "1875/1875 [==============================] - 7s 4ms/step - loss: 0.0216 - accuracy: 0.9933 - val_loss: 0.4778 - val_accuracy: 0.9058\n",
            "Epoch 89/100\n",
            "1875/1875 [==============================] - 7s 4ms/step - loss: 0.0225 - accuracy: 0.9928 - val_loss: 0.4748 - val_accuracy: 0.9039\n",
            "Epoch 90/100\n",
            "1875/1875 [==============================] - 7s 4ms/step - loss: 0.0221 - accuracy: 0.9929 - val_loss: 0.4785 - val_accuracy: 0.9018\n",
            "Epoch 91/100\n",
            "1875/1875 [==============================] - 7s 4ms/step - loss: 0.0213 - accuracy: 0.9933 - val_loss: 0.4977 - val_accuracy: 0.9009\n",
            "Epoch 92/100\n",
            "1875/1875 [==============================] - 7s 4ms/step - loss: 0.0337 - accuracy: 0.9883 - val_loss: 0.4827 - val_accuracy: 0.9049\n",
            "Epoch 93/100\n",
            "1875/1875 [==============================] - 7s 4ms/step - loss: 0.0212 - accuracy: 0.9931 - val_loss: 0.4889 - val_accuracy: 0.9028\n",
            "Epoch 94/100\n",
            "1875/1875 [==============================] - 7s 4ms/step - loss: 0.0242 - accuracy: 0.9919 - val_loss: 0.4919 - val_accuracy: 0.9019\n",
            "Epoch 95/100\n",
            "1875/1875 [==============================] - 7s 4ms/step - loss: 0.0274 - accuracy: 0.9899 - val_loss: 0.4552 - val_accuracy: 0.9054\n",
            "Epoch 96/100\n",
            "1875/1875 [==============================] - 7s 4ms/step - loss: 0.0216 - accuracy: 0.9929 - val_loss: 0.5109 - val_accuracy: 0.9024\n",
            "Epoch 97/100\n",
            "1875/1875 [==============================] - 7s 4ms/step - loss: 0.0274 - accuracy: 0.9915 - val_loss: 0.5149 - val_accuracy: 0.9006\n",
            "Epoch 98/100\n",
            "1875/1875 [==============================] - 7s 4ms/step - loss: 0.0260 - accuracy: 0.9911 - val_loss: 0.4872 - val_accuracy: 0.9040\n",
            "Epoch 99/100\n",
            "1875/1875 [==============================] - 7s 4ms/step - loss: 0.0220 - accuracy: 0.9930 - val_loss: 0.4897 - val_accuracy: 0.9047\n",
            "Epoch 100/100\n",
            "1875/1875 [==============================] - 7s 4ms/step - loss: 0.0222 - accuracy: 0.9929 - val_loss: 0.5266 - val_accuracy: 0.8995\n"
          ],
          "name": "stdout"
        },
        {
          "output_type": "execute_result",
          "data": {
            "text/plain": [
              "<tensorflow.python.keras.callbacks.History at 0x7f31bf7906d0>"
            ]
          },
          "metadata": {
            "tags": []
          },
          "execution_count": 35
        }
      ]
    },
    {
      "cell_type": "code",
      "metadata": {
        "colab": {
          "base_uri": "https://localhost:8080/",
          "height": 467
        },
        "id": "rLs7Qh11weX1",
        "outputId": "5ba878ce-0902-4946-ee67-5350156075e9"
      },
      "source": [
        "def plot_confusion_matrix(cm,\r\n",
        "                          target_names,\r\n",
        "                          title='Confusion matrix',\r\n",
        "                          cmap=None,\r\n",
        "                          normalize=False):\r\n",
        "    \"\"\"\r\n",
        "    given a sklearn confusion matrix (cm), make a nice plot\r\n",
        "\r\n",
        "    Arguments\r\n",
        "    ---------\r\n",
        "    cm:           confusion matrix from sklearn.metrics.confusion_matrix\r\n",
        "\r\n",
        "    target_names: given classification classes such as [0, 1, 2]\r\n",
        "                  the class names, for example: ['high', 'medium', 'low']\r\n",
        "\r\n",
        "    title:        the text to display at the top of the matrix\r\n",
        "\r\n",
        "    cmap:         the gradient of the values displayed from matplotlib.pyplot.cm\r\n",
        "                  see http://matplotlib.org/examples/color/colormaps_reference.html\r\n",
        "                  plt.get_cmap('jet') or plt.cm.Blues\r\n",
        "\r\n",
        "    normalize:    If False, plot the raw numbers\r\n",
        "                  If True, plot the proportions\r\n",
        "\r\n",
        "    Usage\r\n",
        "    -----\r\n",
        "    plot_confusion_matrix(cm           = cm,                  # confusion matrix created by\r\n",
        "                                                              # sklearn.metrics.confusion_matrix\r\n",
        "                          normalize    = True,                # show proportions\r\n",
        "                          target_names = y_labels_vals,       # list of names of the classes\r\n",
        "                          title        = best_estimator_name) # title of graph\r\n",
        "\r\n",
        "    Citiation\r\n",
        "    ---------\r\n",
        "    http://scikit-learn.org/stable/auto_examples/model_selection/plot_confusion_matrix.html\r\n",
        "\r\n",
        "    \"\"\"\r\n",
        " \r\n",
        "    import itertools\r\n",
        "\r\n",
        "    accuracy = np.trace(cm) / float(np.sum(cm))\r\n",
        "    misclass = 1 - accuracy\r\n",
        "\r\n",
        "    if cmap is None:\r\n",
        "        cmap = plt.get_cmap('Blues')\r\n",
        "\r\n",
        "    plt.figure(figsize=(8, 6))\r\n",
        "    plt.imshow(cm, interpolation='nearest', cmap=cmap)\r\n",
        "    plt.title(title)\r\n",
        "    plt.colorbar()\r\n",
        "\r\n",
        "    if target_names is not None:\r\n",
        "        tick_marks = np.arange(len(target_names))\r\n",
        "        plt.xticks(tick_marks, target_names, rotation=45)\r\n",
        "        plt.yticks(tick_marks, target_names)\r\n",
        "\r\n",
        "    if normalize:\r\n",
        "        cm = cm.astype('float') / cm.sum(axis=1)[:, np.newaxis]\r\n",
        "\r\n",
        "\r\n",
        "    thresh = cm.max() / 1.5 if normalize else cm.max() / 2\r\n",
        "    for i, j in itertools.product(range(cm.shape[0]), range(cm.shape[1])):\r\n",
        "        if normalize:\r\n",
        "            plt.text(j, i, \"{:0.4f}\".format(cm[i, j]),\r\n",
        "                     horizontalalignment=\"center\",\r\n",
        "                     color=\"white\" if cm[i, j] > thresh else \"black\")\r\n",
        "        else:\r\n",
        "            plt.text(j, i, \"{:,}\".format(cm[i, j]),\r\n",
        "                     horizontalalignment=\"center\",\r\n",
        "                     color=\"white\" if cm[i, j] > thresh else \"black\")\r\n",
        "\r\n",
        "\r\n",
        "    plt.tight_layout()\r\n",
        "    plt.ylabel('True label')\r\n",
        "    plt.xlabel('Predicted label\\naccuracy={:0.4f}; misclass={:0.4f}'.format(accuracy, misclass))\r\n",
        "    plt.show()\r\n",
        "from sklearn.metrics import  confusion_matrix\r\n",
        "y_pred=model.predict(X_test).argmax(axis=1)\r\n",
        "plot_confusion_matrix(confusion_matrix(y_test, y_pred), list(range(10)))"
      ],
      "execution_count": 38,
      "outputs": [
        {
          "output_type": "display_data",
          "data": {
            "image/png": "[encoded data removed]",
            "text/plain": [
              "<Figure size 576x432 with 2 Axes>"
            ]
          },
          "metadata": {
            "tags": [],
            "needs_background": "light"
          }
        }
      ]
    },
    {
      "cell_type": "code",
      "metadata": {
        "colab": {
          "base_uri": "https://localhost:8080/",
          "height": 298
        },
        "id": "HyXgaz5Ewj7o",
        "outputId": "f84bfc57-1851-4aba-d0e7-483870e04cfc"
      },
      "source": [
        "class_names = ['T-shirt/top', 'Trouser', 'Pullover', 'Dress', 'Coat',\r\n",
        "               'Sandal', 'Shirt', 'Sneaker', 'Bag', 'Ankle boot']\r\n",
        "misclassified_idx=np.where(y_pred!=y_test)[0]\r\n",
        "i = np.random.choice(misclassified_idx)\r\n",
        "plt.imshow(X_test[i].reshape(28,28),cmap=None)\r\n",
        "plt.title(\"actual_data: %s, Predict: %s\"%(class_names[y_test[i]],class_names[ y_pred[i]]))"
      ],
      "execution_count": 43,
      "outputs": [
        {
          "output_type": "execute_result",
          "data": {
            "text/plain": [
              "Text(0.5, 1.0, 'actual_data: Pullover, Predict: Coat')"
            ]
          },
          "metadata": {
            "tags": []
          },
          "execution_count": 43
        },
        {
          "output_type": "display_data",
          "data": {
            "image/png": "[encoded data removed]",
            "text/plain": [
              "<Figure size 432x288 with 1 Axes>"
            ]
          },
          "metadata": {
            "tags": [],
            "needs_background": "light"
          }
        }
      ]
    }
  ]
}